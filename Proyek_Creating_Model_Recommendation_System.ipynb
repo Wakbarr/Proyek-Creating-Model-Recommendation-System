{
  "cells": [
    {
      "cell_type": "markdown",
      "metadata": {
        "id": "8A0VvTWv0spy"
      },
      "source": [
        "# Proyek Creating Model Recommendation System :\n",
        "\n",
        "- **Nama:** Akbar Widianto\n",
        "- **Email:** wdntoakbar@gmail.com\n",
        "- **ID Dicoding:** wakbarr"
      ]
    },
    {
      "cell_type": "markdown",
      "metadata": {
        "id": "DNmrIzOdGEW-"
      },
      "source": [
        "# Data Understanding"
      ]
    },
    {
      "cell_type": "markdown",
      "metadata": {
        "id": "APEGydMnFmCO"
      },
      "source": [
        "## Memuat Dataset dari File Lokal"
      ]
    },
    {
      "cell_type": "markdown",
      "metadata": {
        "id": "hQoc3TZvFvYp"
      },
      "source": [
        "### memuat dataset dari file lokal menggunakan library pandas."
      ]
    },
    {
      "cell_type": "code",
      "execution_count": 19,
      "metadata": {
        "colab": {
          "base_uri": "https://localhost:8080/"
        },
        "id": "MK8c8kbx0dMP",
        "outputId": "d3a63339-9b2b-4360-fcd3-9880c5fbaa6b"
      },
      "outputs": [
        {
          "output_type": "stream",
          "name": "stdout",
          "text": [
            "   movie_id                     title  year  \\\n",
            "0    100001       #FriendButMarried 2  2020   \n",
            "1    100002                  4 Mantan  2020   \n",
            "2    100003  Aku Tahu Kapan Kamu Mati  2020   \n",
            "3    100004               Anak Garuda  2020   \n",
            "4    100005                 Dignitate  2020   \n",
            "\n",
            "                                         description      genre rating  \\\n",
            "0  Ayudia (Mawar De Jongh) is not satisfied enoug...  Biography    13+   \n",
            "1  Sara, Airin, Rachel, and Amara were accidental...   Thriller    17+   \n",
            "2  After apparent death, Siena is able to see sig...     Horror    13+   \n",
            "3  Good Morning Indonesia, a school for poor orph...  Adventure    13+   \n",
            "4  Alfi (Al Ghazali) meets Alana (Caitlin Halderm...      Drama    17+   \n",
            "\n",
            "   users_rating votes   languages          directors  \\\n",
            "0           6.5   120  Indonesian      Rako Prijanto   \n",
            "1           6.4     8  Indonesian      Hanny Saputra   \n",
            "2           5.4    17  Indonesian  Hadrah Daeng Ratu   \n",
            "3           9.1    27  Indonesian       Faozan Rizal   \n",
            "4           7.6    33  Indonesian       Fajar Nugros   \n",
            "\n",
            "                                              actors  runtime  \n",
            "0  ['Adipati Dolken', 'Mawar Eva de Jongh', 'Vonn...  100 min  \n",
            "1  ['Ranty Maria', 'Jeff Smith', 'Melanie Berentz...   80 min  \n",
            "2  ['Natasha Wilona', 'Ria Ricis', 'Al Ghazali', ...   92 min  \n",
            "3  ['Tissa Biani Azzahra', 'Violla Georgie', 'Aji...  129 min  \n",
            "4  ['Al Ghazali', 'Caitlin Halderman', 'Giorgino ...  109 min  \n"
          ]
        }
      ],
      "source": [
        "import pandas as pd\n",
        "import pandas as pd\n",
        "import numpy as np\n",
        "import tensorflow as tf\n",
        "from tensorflow.keras import layers\n",
        "import matplotlib.pyplot as plt\n",
        "from sklearn.feature_extraction.text import TfidfVectorizer\n",
        "from sklearn.metrics.pairwise import cosine_similarity\n",
        "\n",
        "# Memuat dataset dari file lokal\n",
        "data_film = pd.read_csv('film_indo.csv')\n",
        "\n",
        "# Menampilkan 5 baris pertama untuk memeriksa data\n",
        "print(data_film.head())"
      ]
    },
    {
      "cell_type": "markdown",
      "metadata": {
        "id": "-nKAfP5NEB9k"
      },
      "source": [
        "## Menambahkan Kolom user_id"
      ]
    },
    {
      "cell_type": "markdown",
      "metadata": {
        "id": "XXmYgVawFsip"
      },
      "source": [
        "### Untuk mendukung proses Collaborative Filtering, saya tambahkan kolom user_id sebagai identifikasi unik untuk setiap entri."
      ]
    },
    {
      "cell_type": "code",
      "execution_count": 20,
      "metadata": {
        "colab": {
          "base_uri": "https://localhost:8080/"
        },
        "id": "a_JumIqSDjMr",
        "outputId": "aa74f61b-a59a-4947-a25f-fca431d23844"
      },
      "outputs": [
        {
          "output_type": "stream",
          "name": "stdout",
          "text": [
            "      movie_id                     title  year  \\\n",
            "0       100001       #FriendButMarried 2  2020   \n",
            "1       100002                  4 Mantan  2020   \n",
            "2       100003  Aku Tahu Kapan Kamu Mati  2020   \n",
            "3       100004               Anak Garuda  2020   \n",
            "4       100005                 Dignitate  2020   \n",
            "...        ...                       ...   ...   \n",
            "1267    101268     The Tiger from Tjampa  1953   \n",
            "1268    101269       Enam Djam di Djogja  1951   \n",
            "1269    101270             Darah dan Doa  1950   \n",
            "1270    101271         Resia Boroboedoer  1928   \n",
            "1271    101272        Loetoeng Kasaroeng  1926   \n",
            "\n",
            "                                            description      genre rating  \\\n",
            "0     Ayudia (Mawar De Jongh) is not satisfied enoug...  Biography    13+   \n",
            "1     Sara, Airin, Rachel, and Amara were accidental...   Thriller    17+   \n",
            "2     After apparent death, Siena is able to see sig...     Horror    13+   \n",
            "3     Good Morning Indonesia, a school for poor orph...  Adventure    13+   \n",
            "4     Alfi (Al Ghazali) meets Alana (Caitlin Halderm...      Drama    17+   \n",
            "...                                                 ...        ...    ...   \n",
            "1267  Set in the 1930s, and narrated like a ballad f...      Drama    NaN   \n",
            "1268  Depicting the celebrated recapture of the town...      Drama    NaN   \n",
            "1269  It tells the story of an Indonesian revolution...      Drama    NaN   \n",
            "1270                                                NaN  Adventure    NaN   \n",
            "1271                                                NaN    Fantasy    NaN   \n",
            "\n",
            "      users_rating votes   languages          directors  \\\n",
            "0              6.5   120  Indonesian      Rako Prijanto   \n",
            "1              6.4     8  Indonesian      Hanny Saputra   \n",
            "2              5.4    17  Indonesian  Hadrah Daeng Ratu   \n",
            "3              9.1    27  Indonesian       Faozan Rizal   \n",
            "4              7.6    33  Indonesian       Fajar Nugros   \n",
            "...            ...   ...         ...                ...   \n",
            "1267           6.4    30  Indonesian     D. Djajakusuma   \n",
            "1268           6.3     9  Indonesian       Usmar Ismail   \n",
            "1269           6.6    27  Indonesian       Usmar Ismail   \n",
            "1270           7.0     8  Indonesian                NaN   \n",
            "1271           7.2    11  Indonesian      L. Heuveldorp   \n",
            "\n",
            "                                                 actors  runtime user_id  \n",
            "0     ['Adipati Dolken', 'Mawar Eva de Jongh', 'Vonn...  100 min    U001  \n",
            "1     ['Ranty Maria', 'Jeff Smith', 'Melanie Berentz...   80 min    U002  \n",
            "2     ['Natasha Wilona', 'Ria Ricis', 'Al Ghazali', ...   92 min    U003  \n",
            "3     ['Tissa Biani Azzahra', 'Violla Georgie', 'Aji...  129 min    U004  \n",
            "4     ['Al Ghazali', 'Caitlin Halderman', 'Giorgino ...  109 min    U005  \n",
            "...                                                 ...      ...     ...  \n",
            "1267  ['Wahid Chan', 'Bambang Hermanto', 'R.D. Ismai...   97 min   U1268  \n",
            "1268  ['R.D. Ismail', 'Del Juzar', 'Aedy Moward', 'A...  116 min   U1269  \n",
            "1269  ['Ella Bergen', 'Faridah', 'R.D. Ismail', 'Del...  150 min   U1270  \n",
            "1270  ['Olive Young', nan, nan, nan, nan, nan, nan, ...      NaN   U1271  \n",
            "1271  ['Martoana', 'Oemar', nan, nan, nan, nan, nan,...   60 min   U1272  \n",
            "\n",
            "[1272 rows x 13 columns]\n"
          ]
        }
      ],
      "source": [
        "# Menambahkan kolom user_id secara unik\n",
        "data_film['user_id'] = ['U' + str(i).zfill(3) for i in range(1, len(data_film) + 1)]\n",
        "\n",
        "# Menampilkan dataset dengan kolom baru\n",
        "print(data_film)"
      ]
    },
    {
      "cell_type": "markdown",
      "metadata": {
        "id": "9fnZa5JyF0HM"
      },
      "source": [
        "## Deskripsi Variabel dalam Dataset"
      ]
    },
    {
      "cell_type": "markdown",
      "metadata": {
        "id": "DUu0MZe3F2yK"
      },
      "source": [
        "### Berikut adalah penjelasan mengenai kolom-kolom dalam dataset:"
      ]
    },
    {
      "cell_type": "markdown",
      "metadata": {
        "id": "5-3Kqs3tF-u2"
      },
      "source": [
        "- `movie_id`: ID unik film sesuai dengan yang ada di IMDb.\n",
        "- `title`: Judul film.\n",
        "- `year`: Tahun rilis film.\n",
        "- `description`: Sinopsis singkat mengenai film.\n",
        "- `genre`: Genre film.\n",
        "- `rating`: Rating usia film.\n",
        "- `users_rating`: Rata-rata rating dari pengguna yang memberikan ulasan.\n",
        "- `votes`: Jumlah pengguna yang memberikan rating terhadap film.\n",
        "- `languages`: Bahasa yang digunakan dalam film.\n",
        "- `directors`: Nama sutradara film.\n",
        "- `actors`: Daftar pemeran utama dalam film.\n",
        "- `runtime`: Durasi film dalam menit.\n",
        "- `user_id`: ID unik pengguna."
      ]
    },
    {
      "cell_type": "markdown",
      "metadata": {
        "id": "fQn4nsDtGO9J"
      },
      "source": [
        "## Analisis Awal Dataset"
      ]
    },
    {
      "cell_type": "markdown",
      "metadata": {
        "id": "1QgWvlstGRLq"
      },
      "source": [
        "### memeriksa informasi dasar dataset, seperti jumlah data dan tipe data."
      ]
    },
    {
      "cell_type": "code",
      "execution_count": 21,
      "metadata": {
        "colab": {
          "base_uri": "https://localhost:8080/"
        },
        "id": "WGzb0_uoGSti",
        "outputId": "fdd93880-5e99-43ff-9a06-df12a2e64abc"
      },
      "outputs": [
        {
          "output_type": "stream",
          "name": "stdout",
          "text": [
            "<class 'pandas.core.frame.DataFrame'>\n",
            "RangeIndex: 1272 entries, 0 to 1271\n",
            "Data columns (total 13 columns):\n",
            " #   Column        Non-Null Count  Dtype  \n",
            "---  ------        --------------  -----  \n",
            " 0   movie_id      1272 non-null   int64  \n",
            " 1   title         1272 non-null   object \n",
            " 2   year          1272 non-null   int64  \n",
            " 3   description   840 non-null    object \n",
            " 4   genre         1236 non-null   object \n",
            " 5   rating        376 non-null    object \n",
            " 6   users_rating  1272 non-null   float64\n",
            " 7   votes         1272 non-null   object \n",
            " 8   languages     1272 non-null   object \n",
            " 9   directors     1265 non-null   object \n",
            " 10  actors        1272 non-null   object \n",
            " 11  runtime       869 non-null    object \n",
            " 12  user_id       1272 non-null   object \n",
            "dtypes: float64(1), int64(2), object(10)\n",
            "memory usage: 129.3+ KB\n",
            "Jumlah film unik: 1272\n",
            "Jumlah genre unik: 16\n",
            "Daftar genre: ['Biography' 'Thriller' 'Horror' 'Adventure' 'Drama' 'Comedy' 'Animation'\n",
            " 'Action' 'History' 'Crime' 'Romance' 'Sci-Fi' 'Family' nan 'War'\n",
            " 'Fantasy']\n",
            "Jumlah rating unik: 79\n"
          ]
        }
      ],
      "source": [
        "# Menampilkan informasi dataset\n",
        "data_film.info()\n",
        "\n",
        "# Menghitung jumlah film unik dan genre\n",
        "print(f\"Jumlah film unik: {len(data_film['movie_id'].unique())}\")\n",
        "print(f\"Jumlah genre unik: {len(data_film['genre'].unique())}\")\n",
        "print(f\"Daftar genre: {data_film['genre'].unique()}\")\n",
        "print(f\"Jumlah rating unik: {len(data_film['users_rating'].unique())}\")"
      ]
    },
    {
      "cell_type": "markdown",
      "metadata": {
        "id": "xqPOSqrqKRCX"
      },
      "source": [
        "### Hasil yang diharapkan:\n",
        "\n",
        "Total film: 1.272 entri unik.\n",
        "Total genre: 16 jenis genre (contoh: Drama, Comedy, Horror, dll.)."
      ]
    },
    {
      "cell_type": "markdown",
      "metadata": {
        "id": "pbCc6UoZKI8J"
      },
      "source": [
        "## Statistik Deskriptif"
      ]
    },
    {
      "cell_type": "markdown",
      "metadata": {
        "id": "O7UbeVvnKXY3"
      },
      "source": [
        "### Untuk memahami distribusi rating, menggunakan fungsi describe()."
      ]
    },
    {
      "cell_type": "code",
      "execution_count": 22,
      "metadata": {
        "colab": {
          "base_uri": "https://localhost:8080/",
          "height": 300
        },
        "id": "UNeEqXbMKKvB",
        "outputId": "9f210252-977a-4bd8-c922-abb553846337"
      },
      "outputs": [
        {
          "output_type": "execute_result",
          "data": {
            "text/plain": [
              "           movie_id         year  users_rating\n",
              "count    1272.00000  1272.000000   1272.000000\n",
              "mean   100636.50000  2007.023585      6.144418\n",
              "std       367.33908    12.968560      1.389315\n",
              "min    100001.00000  1926.000000      1.200000\n",
              "25%    100318.75000  2006.000000      5.300000\n",
              "50%    100636.50000  2011.000000      6.400000\n",
              "75%    100954.25000  2016.000000      7.100000\n",
              "max    101272.00000  2020.000000      9.400000"
            ],
            "text/html": [
              "\n",
              "  <div id=\"df-401914d7-39b7-41ce-a4b8-1f00db795601\" class=\"colab-df-container\">\n",
              "    <div>\n",
              "<style scoped>\n",
              "    .dataframe tbody tr th:only-of-type {\n",
              "        vertical-align: middle;\n",
              "    }\n",
              "\n",
              "    .dataframe tbody tr th {\n",
              "        vertical-align: top;\n",
              "    }\n",
              "\n",
              "    .dataframe thead th {\n",
              "        text-align: right;\n",
              "    }\n",
              "</style>\n",
              "<table border=\"1\" class=\"dataframe\">\n",
              "  <thead>\n",
              "    <tr style=\"text-align: right;\">\n",
              "      <th></th>\n",
              "      <th>movie_id</th>\n",
              "      <th>year</th>\n",
              "      <th>users_rating</th>\n",
              "    </tr>\n",
              "  </thead>\n",
              "  <tbody>\n",
              "    <tr>\n",
              "      <th>count</th>\n",
              "      <td>1272.00000</td>\n",
              "      <td>1272.000000</td>\n",
              "      <td>1272.000000</td>\n",
              "    </tr>\n",
              "    <tr>\n",
              "      <th>mean</th>\n",
              "      <td>100636.50000</td>\n",
              "      <td>2007.023585</td>\n",
              "      <td>6.144418</td>\n",
              "    </tr>\n",
              "    <tr>\n",
              "      <th>std</th>\n",
              "      <td>367.33908</td>\n",
              "      <td>12.968560</td>\n",
              "      <td>1.389315</td>\n",
              "    </tr>\n",
              "    <tr>\n",
              "      <th>min</th>\n",
              "      <td>100001.00000</td>\n",
              "      <td>1926.000000</td>\n",
              "      <td>1.200000</td>\n",
              "    </tr>\n",
              "    <tr>\n",
              "      <th>25%</th>\n",
              "      <td>100318.75000</td>\n",
              "      <td>2006.000000</td>\n",
              "      <td>5.300000</td>\n",
              "    </tr>\n",
              "    <tr>\n",
              "      <th>50%</th>\n",
              "      <td>100636.50000</td>\n",
              "      <td>2011.000000</td>\n",
              "      <td>6.400000</td>\n",
              "    </tr>\n",
              "    <tr>\n",
              "      <th>75%</th>\n",
              "      <td>100954.25000</td>\n",
              "      <td>2016.000000</td>\n",
              "      <td>7.100000</td>\n",
              "    </tr>\n",
              "    <tr>\n",
              "      <th>max</th>\n",
              "      <td>101272.00000</td>\n",
              "      <td>2020.000000</td>\n",
              "      <td>9.400000</td>\n",
              "    </tr>\n",
              "  </tbody>\n",
              "</table>\n",
              "</div>\n",
              "    <div class=\"colab-df-buttons\">\n",
              "\n",
              "  <div class=\"colab-df-container\">\n",
              "    <button class=\"colab-df-convert\" onclick=\"convertToInteractive('df-401914d7-39b7-41ce-a4b8-1f00db795601')\"\n",
              "            title=\"Convert this dataframe to an interactive table.\"\n",
              "            style=\"display:none;\">\n",
              "\n",
              "  <svg xmlns=\"http://www.w3.org/2000/svg\" height=\"24px\" viewBox=\"0 -960 960 960\">\n",
              "    <path d=\"M120-120v-720h720v720H120Zm60-500h600v-160H180v160Zm220 220h160v-160H400v160Zm0 220h160v-160H400v160ZM180-400h160v-160H180v160Zm440 0h160v-160H620v160ZM180-180h160v-160H180v160Zm440 0h160v-160H620v160Z\"/>\n",
              "  </svg>\n",
              "    </button>\n",
              "\n",
              "  <style>\n",
              "    .colab-df-container {\n",
              "      display:flex;\n",
              "      gap: 12px;\n",
              "    }\n",
              "\n",
              "    .colab-df-convert {\n",
              "      background-color: #E8F0FE;\n",
              "      border: none;\n",
              "      border-radius: 50%;\n",
              "      cursor: pointer;\n",
              "      display: none;\n",
              "      fill: #1967D2;\n",
              "      height: 32px;\n",
              "      padding: 0 0 0 0;\n",
              "      width: 32px;\n",
              "    }\n",
              "\n",
              "    .colab-df-convert:hover {\n",
              "      background-color: #E2EBFA;\n",
              "      box-shadow: 0px 1px 2px rgba(60, 64, 67, 0.3), 0px 1px 3px 1px rgba(60, 64, 67, 0.15);\n",
              "      fill: #174EA6;\n",
              "    }\n",
              "\n",
              "    .colab-df-buttons div {\n",
              "      margin-bottom: 4px;\n",
              "    }\n",
              "\n",
              "    [theme=dark] .colab-df-convert {\n",
              "      background-color: #3B4455;\n",
              "      fill: #D2E3FC;\n",
              "    }\n",
              "\n",
              "    [theme=dark] .colab-df-convert:hover {\n",
              "      background-color: #434B5C;\n",
              "      box-shadow: 0px 1px 3px 1px rgba(0, 0, 0, 0.15);\n",
              "      filter: drop-shadow(0px 1px 2px rgba(0, 0, 0, 0.3));\n",
              "      fill: #FFFFFF;\n",
              "    }\n",
              "  </style>\n",
              "\n",
              "    <script>\n",
              "      const buttonEl =\n",
              "        document.querySelector('#df-401914d7-39b7-41ce-a4b8-1f00db795601 button.colab-df-convert');\n",
              "      buttonEl.style.display =\n",
              "        google.colab.kernel.accessAllowed ? 'block' : 'none';\n",
              "\n",
              "      async function convertToInteractive(key) {\n",
              "        const element = document.querySelector('#df-401914d7-39b7-41ce-a4b8-1f00db795601');\n",
              "        const dataTable =\n",
              "          await google.colab.kernel.invokeFunction('convertToInteractive',\n",
              "                                                    [key], {});\n",
              "        if (!dataTable) return;\n",
              "\n",
              "        const docLinkHtml = 'Like what you see? Visit the ' +\n",
              "          '<a target=\"_blank\" href=https://colab.research.google.com/notebooks/data_table.ipynb>data table notebook</a>'\n",
              "          + ' to learn more about interactive tables.';\n",
              "        element.innerHTML = '';\n",
              "        dataTable['output_type'] = 'display_data';\n",
              "        await google.colab.output.renderOutput(dataTable, element);\n",
              "        const docLink = document.createElement('div');\n",
              "        docLink.innerHTML = docLinkHtml;\n",
              "        element.appendChild(docLink);\n",
              "      }\n",
              "    </script>\n",
              "  </div>\n",
              "\n",
              "\n",
              "    <div id=\"df-faea6b19-1c01-4fac-bf40-9e98769fe4dd\">\n",
              "      <button class=\"colab-df-quickchart\" onclick=\"quickchart('df-faea6b19-1c01-4fac-bf40-9e98769fe4dd')\"\n",
              "                title=\"Suggest charts\"\n",
              "                style=\"display:none;\">\n",
              "\n",
              "<svg xmlns=\"http://www.w3.org/2000/svg\" height=\"24px\"viewBox=\"0 0 24 24\"\n",
              "     width=\"24px\">\n",
              "    <g>\n",
              "        <path d=\"M19 3H5c-1.1 0-2 .9-2 2v14c0 1.1.9 2 2 2h14c1.1 0 2-.9 2-2V5c0-1.1-.9-2-2-2zM9 17H7v-7h2v7zm4 0h-2V7h2v10zm4 0h-2v-4h2v4z\"/>\n",
              "    </g>\n",
              "</svg>\n",
              "      </button>\n",
              "\n",
              "<style>\n",
              "  .colab-df-quickchart {\n",
              "      --bg-color: #E8F0FE;\n",
              "      --fill-color: #1967D2;\n",
              "      --hover-bg-color: #E2EBFA;\n",
              "      --hover-fill-color: #174EA6;\n",
              "      --disabled-fill-color: #AAA;\n",
              "      --disabled-bg-color: #DDD;\n",
              "  }\n",
              "\n",
              "  [theme=dark] .colab-df-quickchart {\n",
              "      --bg-color: #3B4455;\n",
              "      --fill-color: #D2E3FC;\n",
              "      --hover-bg-color: #434B5C;\n",
              "      --hover-fill-color: #FFFFFF;\n",
              "      --disabled-bg-color: #3B4455;\n",
              "      --disabled-fill-color: #666;\n",
              "  }\n",
              "\n",
              "  .colab-df-quickchart {\n",
              "    background-color: var(--bg-color);\n",
              "    border: none;\n",
              "    border-radius: 50%;\n",
              "    cursor: pointer;\n",
              "    display: none;\n",
              "    fill: var(--fill-color);\n",
              "    height: 32px;\n",
              "    padding: 0;\n",
              "    width: 32px;\n",
              "  }\n",
              "\n",
              "  .colab-df-quickchart:hover {\n",
              "    background-color: var(--hover-bg-color);\n",
              "    box-shadow: 0 1px 2px rgba(60, 64, 67, 0.3), 0 1px 3px 1px rgba(60, 64, 67, 0.15);\n",
              "    fill: var(--button-hover-fill-color);\n",
              "  }\n",
              "\n",
              "  .colab-df-quickchart-complete:disabled,\n",
              "  .colab-df-quickchart-complete:disabled:hover {\n",
              "    background-color: var(--disabled-bg-color);\n",
              "    fill: var(--disabled-fill-color);\n",
              "    box-shadow: none;\n",
              "  }\n",
              "\n",
              "  .colab-df-spinner {\n",
              "    border: 2px solid var(--fill-color);\n",
              "    border-color: transparent;\n",
              "    border-bottom-color: var(--fill-color);\n",
              "    animation:\n",
              "      spin 1s steps(1) infinite;\n",
              "  }\n",
              "\n",
              "  @keyframes spin {\n",
              "    0% {\n",
              "      border-color: transparent;\n",
              "      border-bottom-color: var(--fill-color);\n",
              "      border-left-color: var(--fill-color);\n",
              "    }\n",
              "    20% {\n",
              "      border-color: transparent;\n",
              "      border-left-color: var(--fill-color);\n",
              "      border-top-color: var(--fill-color);\n",
              "    }\n",
              "    30% {\n",
              "      border-color: transparent;\n",
              "      border-left-color: var(--fill-color);\n",
              "      border-top-color: var(--fill-color);\n",
              "      border-right-color: var(--fill-color);\n",
              "    }\n",
              "    40% {\n",
              "      border-color: transparent;\n",
              "      border-right-color: var(--fill-color);\n",
              "      border-top-color: var(--fill-color);\n",
              "    }\n",
              "    60% {\n",
              "      border-color: transparent;\n",
              "      border-right-color: var(--fill-color);\n",
              "    }\n",
              "    80% {\n",
              "      border-color: transparent;\n",
              "      border-right-color: var(--fill-color);\n",
              "      border-bottom-color: var(--fill-color);\n",
              "    }\n",
              "    90% {\n",
              "      border-color: transparent;\n",
              "      border-bottom-color: var(--fill-color);\n",
              "    }\n",
              "  }\n",
              "</style>\n",
              "\n",
              "      <script>\n",
              "        async function quickchart(key) {\n",
              "          const quickchartButtonEl =\n",
              "            document.querySelector('#' + key + ' button');\n",
              "          quickchartButtonEl.disabled = true;  // To prevent multiple clicks.\n",
              "          quickchartButtonEl.classList.add('colab-df-spinner');\n",
              "          try {\n",
              "            const charts = await google.colab.kernel.invokeFunction(\n",
              "                'suggestCharts', [key], {});\n",
              "          } catch (error) {\n",
              "            console.error('Error during call to suggestCharts:', error);\n",
              "          }\n",
              "          quickchartButtonEl.classList.remove('colab-df-spinner');\n",
              "          quickchartButtonEl.classList.add('colab-df-quickchart-complete');\n",
              "        }\n",
              "        (() => {\n",
              "          let quickchartButtonEl =\n",
              "            document.querySelector('#df-faea6b19-1c01-4fac-bf40-9e98769fe4dd button');\n",
              "          quickchartButtonEl.style.display =\n",
              "            google.colab.kernel.accessAllowed ? 'block' : 'none';\n",
              "        })();\n",
              "      </script>\n",
              "    </div>\n",
              "\n",
              "    </div>\n",
              "  </div>\n"
            ],
            "application/vnd.google.colaboratory.intrinsic+json": {
              "type": "dataframe",
              "summary": "{\n  \"name\": \"data_film\",\n  \"rows\": 8,\n  \"fields\": [\n    {\n      \"column\": \"movie_id\",\n      \"properties\": {\n        \"dtype\": \"number\",\n        \"std\": 46208.407275969636,\n        \"min\": 367.3390804148124,\n        \"max\": 101272.0,\n        \"num_unique_values\": 7,\n        \"samples\": [\n          1272.0,\n          100636.5,\n          100954.25\n        ],\n        \"semantic_type\": \"\",\n        \"description\": \"\"\n      }\n    },\n    {\n      \"column\": \"year\",\n      \"properties\": {\n        \"dtype\": \"number\",\n        \"std\": 712.5087257524466,\n        \"min\": 12.968560071069561,\n        \"max\": 2020.0,\n        \"num_unique_values\": 8,\n        \"samples\": [\n          2007.0235849056603,\n          2011.0,\n          1272.0\n        ],\n        \"semantic_type\": \"\",\n        \"description\": \"\"\n      }\n    },\n    {\n      \"column\": \"users_rating\",\n      \"properties\": {\n        \"dtype\": \"number\",\n        \"std\": 447.8631015683402,\n        \"min\": 1.2,\n        \"max\": 1272.0,\n        \"num_unique_values\": 8,\n        \"samples\": [\n          6.144418238993711,\n          6.4,\n          1272.0\n        ],\n        \"semantic_type\": \"\",\n        \"description\": \"\"\n      }\n    }\n  ]\n}"
            }
          },
          "metadata": {},
          "execution_count": 22
        }
      ],
      "source": [
        "# Menampilkan statistik deskriptif\n",
        "data_film.describe()"
      ]
    },
    {
      "cell_type": "markdown",
      "metadata": {
        "id": "gnul-mGVKSUa"
      },
      "source": [
        "### Temuan:\n",
        "\n",
        "Rating pengguna berkisar antara 1.2 hingga 9.4, yang menunjukkan variasi penilaian yang cukup luas."
      ]
    },
    {
      "cell_type": "markdown",
      "metadata": {
        "id": "FH8LdOaXKbol"
      },
      "source": [
        "# Data Preparation"
      ]
    },
    {
      "cell_type": "markdown",
      "metadata": {
        "id": "qlxALtXEKeEp"
      },
      "source": [
        "## Menangani Missing Value"
      ]
    },
    {
      "cell_type": "markdown",
      "metadata": {
        "id": "cxuB7SIFKgFN"
      },
      "source": [
        "### periksa apakah ada data yang hilang dalam dataset."
      ]
    },
    {
      "cell_type": "code",
      "execution_count": 23,
      "metadata": {
        "colab": {
          "base_uri": "https://localhost:8080/",
          "height": 492
        },
        "id": "Smi975ndKhpL",
        "outputId": "474210b6-98fd-420a-b797-171efd59c07a"
      },
      "outputs": [
        {
          "output_type": "execute_result",
          "data": {
            "text/plain": [
              "movie_id          0\n",
              "title             0\n",
              "year              0\n",
              "description     432\n",
              "genre            36\n",
              "rating          896\n",
              "users_rating      0\n",
              "votes             0\n",
              "languages         0\n",
              "directors         7\n",
              "actors            0\n",
              "runtime         403\n",
              "user_id           0\n",
              "dtype: int64"
            ],
            "text/html": [
              "<div>\n",
              "<style scoped>\n",
              "    .dataframe tbody tr th:only-of-type {\n",
              "        vertical-align: middle;\n",
              "    }\n",
              "\n",
              "    .dataframe tbody tr th {\n",
              "        vertical-align: top;\n",
              "    }\n",
              "\n",
              "    .dataframe thead th {\n",
              "        text-align: right;\n",
              "    }\n",
              "</style>\n",
              "<table border=\"1\" class=\"dataframe\">\n",
              "  <thead>\n",
              "    <tr style=\"text-align: right;\">\n",
              "      <th></th>\n",
              "      <th>0</th>\n",
              "    </tr>\n",
              "  </thead>\n",
              "  <tbody>\n",
              "    <tr>\n",
              "      <th>movie_id</th>\n",
              "      <td>0</td>\n",
              "    </tr>\n",
              "    <tr>\n",
              "      <th>title</th>\n",
              "      <td>0</td>\n",
              "    </tr>\n",
              "    <tr>\n",
              "      <th>year</th>\n",
              "      <td>0</td>\n",
              "    </tr>\n",
              "    <tr>\n",
              "      <th>description</th>\n",
              "      <td>432</td>\n",
              "    </tr>\n",
              "    <tr>\n",
              "      <th>genre</th>\n",
              "      <td>36</td>\n",
              "    </tr>\n",
              "    <tr>\n",
              "      <th>rating</th>\n",
              "      <td>896</td>\n",
              "    </tr>\n",
              "    <tr>\n",
              "      <th>users_rating</th>\n",
              "      <td>0</td>\n",
              "    </tr>\n",
              "    <tr>\n",
              "      <th>votes</th>\n",
              "      <td>0</td>\n",
              "    </tr>\n",
              "    <tr>\n",
              "      <th>languages</th>\n",
              "      <td>0</td>\n",
              "    </tr>\n",
              "    <tr>\n",
              "      <th>directors</th>\n",
              "      <td>7</td>\n",
              "    </tr>\n",
              "    <tr>\n",
              "      <th>actors</th>\n",
              "      <td>0</td>\n",
              "    </tr>\n",
              "    <tr>\n",
              "      <th>runtime</th>\n",
              "      <td>403</td>\n",
              "    </tr>\n",
              "    <tr>\n",
              "      <th>user_id</th>\n",
              "      <td>0</td>\n",
              "    </tr>\n",
              "  </tbody>\n",
              "</table>\n",
              "</div><br><label><b>dtype:</b> int64</label>"
            ]
          },
          "metadata": {},
          "execution_count": 23
        }
      ],
      "source": [
        "# Memeriksa missing value\n",
        "data_film.isnull().sum()"
      ]
    },
    {
      "cell_type": "markdown",
      "metadata": {
        "id": "kEQHLm-zKmGB"
      },
      "source": [
        "### Jika terdapat missing value (misalnya pada kolom description, genre, atau runtime), kita akan menghapus baris yang bermasalah karena tidak memungkinkan untuk mengisi data secara akurat tanpa informasi tambahan."
      ]
    },
    {
      "cell_type": "code",
      "execution_count": 24,
      "metadata": {
        "colab": {
          "base_uri": "https://localhost:8080/",
          "height": 492
        },
        "id": "0wIdFnEiKom4",
        "outputId": "f765cd84-a6bc-44ca-f2ca-c60106be8ffa"
      },
      "outputs": [
        {
          "output_type": "execute_result",
          "data": {
            "text/plain": [
              "movie_id        0\n",
              "title           0\n",
              "year            0\n",
              "description     0\n",
              "genre           0\n",
              "rating          0\n",
              "users_rating    0\n",
              "votes           0\n",
              "languages       0\n",
              "directors       0\n",
              "actors          0\n",
              "runtime         0\n",
              "user_id         0\n",
              "dtype: int64"
            ],
            "text/html": [
              "<div>\n",
              "<style scoped>\n",
              "    .dataframe tbody tr th:only-of-type {\n",
              "        vertical-align: middle;\n",
              "    }\n",
              "\n",
              "    .dataframe tbody tr th {\n",
              "        vertical-align: top;\n",
              "    }\n",
              "\n",
              "    .dataframe thead th {\n",
              "        text-align: right;\n",
              "    }\n",
              "</style>\n",
              "<table border=\"1\" class=\"dataframe\">\n",
              "  <thead>\n",
              "    <tr style=\"text-align: right;\">\n",
              "      <th></th>\n",
              "      <th>0</th>\n",
              "    </tr>\n",
              "  </thead>\n",
              "  <tbody>\n",
              "    <tr>\n",
              "      <th>movie_id</th>\n",
              "      <td>0</td>\n",
              "    </tr>\n",
              "    <tr>\n",
              "      <th>title</th>\n",
              "      <td>0</td>\n",
              "    </tr>\n",
              "    <tr>\n",
              "      <th>year</th>\n",
              "      <td>0</td>\n",
              "    </tr>\n",
              "    <tr>\n",
              "      <th>description</th>\n",
              "      <td>0</td>\n",
              "    </tr>\n",
              "    <tr>\n",
              "      <th>genre</th>\n",
              "      <td>0</td>\n",
              "    </tr>\n",
              "    <tr>\n",
              "      <th>rating</th>\n",
              "      <td>0</td>\n",
              "    </tr>\n",
              "    <tr>\n",
              "      <th>users_rating</th>\n",
              "      <td>0</td>\n",
              "    </tr>\n",
              "    <tr>\n",
              "      <th>votes</th>\n",
              "      <td>0</td>\n",
              "    </tr>\n",
              "    <tr>\n",
              "      <th>languages</th>\n",
              "      <td>0</td>\n",
              "    </tr>\n",
              "    <tr>\n",
              "      <th>directors</th>\n",
              "      <td>0</td>\n",
              "    </tr>\n",
              "    <tr>\n",
              "      <th>actors</th>\n",
              "      <td>0</td>\n",
              "    </tr>\n",
              "    <tr>\n",
              "      <th>runtime</th>\n",
              "      <td>0</td>\n",
              "    </tr>\n",
              "    <tr>\n",
              "      <th>user_id</th>\n",
              "      <td>0</td>\n",
              "    </tr>\n",
              "  </tbody>\n",
              "</table>\n",
              "</div><br><label><b>dtype:</b> int64</label>"
            ]
          },
          "metadata": {},
          "execution_count": 24
        }
      ],
      "source": [
        "# Menghapus baris dengan missing value\n",
        "movies_clean = data_film.dropna()\n",
        "\n",
        "# Memastikan data sudah bersih\n",
        "movies_clean.isnull().sum()"
      ]
    },
    {
      "cell_type": "markdown",
      "metadata": {
        "id": "JeAuUtF_Ku1P"
      },
      "source": [
        "## Menstandardisasi Genre"
      ]
    },
    {
      "cell_type": "markdown",
      "metadata": {
        "id": "d6Mkt4A2Kwqo"
      },
      "source": [
        "### pastikan setiap film hanya memiliki satu genre utama untuk mempermudah Content-Based Filtering."
      ]
    },
    {
      "cell_type": "code",
      "execution_count": 25,
      "metadata": {
        "colab": {
          "base_uri": "https://localhost:8080/",
          "height": 81
        },
        "id": "GUVPT7ZxKyIu",
        "outputId": "780d36fa-4e45-4d27-fed2-18276acc2b01"
      },
      "outputs": [
        {
          "output_type": "execute_result",
          "data": {
            "text/plain": [
              "   movie_id     title  year  \\\n",
              "1    100002  4 Mantan  2020   \n",
              "\n",
              "                                         description     genre rating  \\\n",
              "1  Sara, Airin, Rachel, and Amara were accidental...  Thriller    17+   \n",
              "\n",
              "   users_rating votes   languages      directors  \\\n",
              "1           6.4     8  Indonesian  Hanny Saputra   \n",
              "\n",
              "                                              actors runtime user_id  \n",
              "1  ['Ranty Maria', 'Jeff Smith', 'Melanie Berentz...  80 min    U002  "
            ],
            "text/html": [
              "\n",
              "  <div id=\"df-bb47012f-6ac0-4bb5-ae19-e7ba08fc4d88\" class=\"colab-df-container\">\n",
              "    <div>\n",
              "<style scoped>\n",
              "    .dataframe tbody tr th:only-of-type {\n",
              "        vertical-align: middle;\n",
              "    }\n",
              "\n",
              "    .dataframe tbody tr th {\n",
              "        vertical-align: top;\n",
              "    }\n",
              "\n",
              "    .dataframe thead th {\n",
              "        text-align: right;\n",
              "    }\n",
              "</style>\n",
              "<table border=\"1\" class=\"dataframe\">\n",
              "  <thead>\n",
              "    <tr style=\"text-align: right;\">\n",
              "      <th></th>\n",
              "      <th>movie_id</th>\n",
              "      <th>title</th>\n",
              "      <th>year</th>\n",
              "      <th>description</th>\n",
              "      <th>genre</th>\n",
              "      <th>rating</th>\n",
              "      <th>users_rating</th>\n",
              "      <th>votes</th>\n",
              "      <th>languages</th>\n",
              "      <th>directors</th>\n",
              "      <th>actors</th>\n",
              "      <th>runtime</th>\n",
              "      <th>user_id</th>\n",
              "    </tr>\n",
              "  </thead>\n",
              "  <tbody>\n",
              "    <tr>\n",
              "      <th>1</th>\n",
              "      <td>100002</td>\n",
              "      <td>4 Mantan</td>\n",
              "      <td>2020</td>\n",
              "      <td>Sara, Airin, Rachel, and Amara were accidental...</td>\n",
              "      <td>Thriller</td>\n",
              "      <td>17+</td>\n",
              "      <td>6.4</td>\n",
              "      <td>8</td>\n",
              "      <td>Indonesian</td>\n",
              "      <td>Hanny Saputra</td>\n",
              "      <td>['Ranty Maria', 'Jeff Smith', 'Melanie Berentz...</td>\n",
              "      <td>80 min</td>\n",
              "      <td>U002</td>\n",
              "    </tr>\n",
              "  </tbody>\n",
              "</table>\n",
              "</div>\n",
              "    <div class=\"colab-df-buttons\">\n",
              "\n",
              "  <div class=\"colab-df-container\">\n",
              "    <button class=\"colab-df-convert\" onclick=\"convertToInteractive('df-bb47012f-6ac0-4bb5-ae19-e7ba08fc4d88')\"\n",
              "            title=\"Convert this dataframe to an interactive table.\"\n",
              "            style=\"display:none;\">\n",
              "\n",
              "  <svg xmlns=\"http://www.w3.org/2000/svg\" height=\"24px\" viewBox=\"0 -960 960 960\">\n",
              "    <path d=\"M120-120v-720h720v720H120Zm60-500h600v-160H180v160Zm220 220h160v-160H400v160Zm0 220h160v-160H400v160ZM180-400h160v-160H180v160Zm440 0h160v-160H620v160ZM180-180h160v-160H180v160Zm440 0h160v-160H620v160Z\"/>\n",
              "  </svg>\n",
              "    </button>\n",
              "\n",
              "  <style>\n",
              "    .colab-df-container {\n",
              "      display:flex;\n",
              "      gap: 12px;\n",
              "    }\n",
              "\n",
              "    .colab-df-convert {\n",
              "      background-color: #E8F0FE;\n",
              "      border: none;\n",
              "      border-radius: 50%;\n",
              "      cursor: pointer;\n",
              "      display: none;\n",
              "      fill: #1967D2;\n",
              "      height: 32px;\n",
              "      padding: 0 0 0 0;\n",
              "      width: 32px;\n",
              "    }\n",
              "\n",
              "    .colab-df-convert:hover {\n",
              "      background-color: #E2EBFA;\n",
              "      box-shadow: 0px 1px 2px rgba(60, 64, 67, 0.3), 0px 1px 3px 1px rgba(60, 64, 67, 0.15);\n",
              "      fill: #174EA6;\n",
              "    }\n",
              "\n",
              "    .colab-df-buttons div {\n",
              "      margin-bottom: 4px;\n",
              "    }\n",
              "\n",
              "    [theme=dark] .colab-df-convert {\n",
              "      background-color: #3B4455;\n",
              "      fill: #D2E3FC;\n",
              "    }\n",
              "\n",
              "    [theme=dark] .colab-df-convert:hover {\n",
              "      background-color: #434B5C;\n",
              "      box-shadow: 0px 1px 3px 1px rgba(0, 0, 0, 0.15);\n",
              "      filter: drop-shadow(0px 1px 2px rgba(0, 0, 0, 0.3));\n",
              "      fill: #FFFFFF;\n",
              "    }\n",
              "  </style>\n",
              "\n",
              "    <script>\n",
              "      const buttonEl =\n",
              "        document.querySelector('#df-bb47012f-6ac0-4bb5-ae19-e7ba08fc4d88 button.colab-df-convert');\n",
              "      buttonEl.style.display =\n",
              "        google.colab.kernel.accessAllowed ? 'block' : 'none';\n",
              "\n",
              "      async function convertToInteractive(key) {\n",
              "        const element = document.querySelector('#df-bb47012f-6ac0-4bb5-ae19-e7ba08fc4d88');\n",
              "        const dataTable =\n",
              "          await google.colab.kernel.invokeFunction('convertToInteractive',\n",
              "                                                    [key], {});\n",
              "        if (!dataTable) return;\n",
              "\n",
              "        const docLinkHtml = 'Like what you see? Visit the ' +\n",
              "          '<a target=\"_blank\" href=https://colab.research.google.com/notebooks/data_table.ipynb>data table notebook</a>'\n",
              "          + ' to learn more about interactive tables.';\n",
              "        element.innerHTML = '';\n",
              "        dataTable['output_type'] = 'display_data';\n",
              "        await google.colab.output.renderOutput(dataTable, element);\n",
              "        const docLink = document.createElement('div');\n",
              "        docLink.innerHTML = docLinkHtml;\n",
              "        element.appendChild(docLink);\n",
              "      }\n",
              "    </script>\n",
              "  </div>\n",
              "\n",
              "\n",
              "    </div>\n",
              "  </div>\n"
            ],
            "application/vnd.google.colaboratory.intrinsic+json": {
              "type": "dataframe",
              "summary": "{\n  \"name\": \"data_sorted[data_sorted['genre'] == 'Thriller']\",\n  \"rows\": 1,\n  \"fields\": [\n    {\n      \"column\": \"movie_id\",\n      \"properties\": {\n        \"dtype\": \"number\",\n        \"std\": null,\n        \"min\": 100002,\n        \"max\": 100002,\n        \"num_unique_values\": 1,\n        \"samples\": [\n          100002\n        ],\n        \"semantic_type\": \"\",\n        \"description\": \"\"\n      }\n    },\n    {\n      \"column\": \"title\",\n      \"properties\": {\n        \"dtype\": \"string\",\n        \"num_unique_values\": 1,\n        \"samples\": [\n          \"4 Mantan\"\n        ],\n        \"semantic_type\": \"\",\n        \"description\": \"\"\n      }\n    },\n    {\n      \"column\": \"year\",\n      \"properties\": {\n        \"dtype\": \"number\",\n        \"std\": null,\n        \"min\": 2020,\n        \"max\": 2020,\n        \"num_unique_values\": 1,\n        \"samples\": [\n          2020\n        ],\n        \"semantic_type\": \"\",\n        \"description\": \"\"\n      }\n    },\n    {\n      \"column\": \"description\",\n      \"properties\": {\n        \"dtype\": \"string\",\n        \"num_unique_values\": 1,\n        \"samples\": [\n          \"Sara, Airin, Rachel, and Amara were accidentally brought together after the death of their ex, Alex. All four received a letter saying that there was one killer among them.\"\n        ],\n        \"semantic_type\": \"\",\n        \"description\": \"\"\n      }\n    },\n    {\n      \"column\": \"genre\",\n      \"properties\": {\n        \"dtype\": \"string\",\n        \"num_unique_values\": 1,\n        \"samples\": [\n          \"Thriller\"\n        ],\n        \"semantic_type\": \"\",\n        \"description\": \"\"\n      }\n    },\n    {\n      \"column\": \"rating\",\n      \"properties\": {\n        \"dtype\": \"string\",\n        \"num_unique_values\": 1,\n        \"samples\": [\n          \"17+\"\n        ],\n        \"semantic_type\": \"\",\n        \"description\": \"\"\n      }\n    },\n    {\n      \"column\": \"users_rating\",\n      \"properties\": {\n        \"dtype\": \"number\",\n        \"std\": null,\n        \"min\": 6.4,\n        \"max\": 6.4,\n        \"num_unique_values\": 1,\n        \"samples\": [\n          6.4\n        ],\n        \"semantic_type\": \"\",\n        \"description\": \"\"\n      }\n    },\n    {\n      \"column\": \"votes\",\n      \"properties\": {\n        \"dtype\": \"string\",\n        \"num_unique_values\": 1,\n        \"samples\": [\n          \"8\"\n        ],\n        \"semantic_type\": \"\",\n        \"description\": \"\"\n      }\n    },\n    {\n      \"column\": \"languages\",\n      \"properties\": {\n        \"dtype\": \"string\",\n        \"num_unique_values\": 1,\n        \"samples\": [\n          \"Indonesian\"\n        ],\n        \"semantic_type\": \"\",\n        \"description\": \"\"\n      }\n    },\n    {\n      \"column\": \"directors\",\n      \"properties\": {\n        \"dtype\": \"string\",\n        \"num_unique_values\": 1,\n        \"samples\": [\n          \"Hanny Saputra\"\n        ],\n        \"semantic_type\": \"\",\n        \"description\": \"\"\n      }\n    },\n    {\n      \"column\": \"actors\",\n      \"properties\": {\n        \"dtype\": \"string\",\n        \"num_unique_values\": 1,\n        \"samples\": [\n          \"['Ranty Maria', 'Jeff Smith', 'Melanie Berentz', 'Denira Wiraguna', 'Melayu Nicole', 'Cinta Brian', 'Delano Daniel', 'Denny Weller', 'Mario Wiericx', 'Wani Siregar', 'Gary M. Iskak', 'Akja Dethan', 'Ayu Dyah Pasha', nan, nan]\"\n        ],\n        \"semantic_type\": \"\",\n        \"description\": \"\"\n      }\n    },\n    {\n      \"column\": \"runtime\",\n      \"properties\": {\n        \"dtype\": \"string\",\n        \"num_unique_values\": 1,\n        \"samples\": [\n          \"80 min\"\n        ],\n        \"semantic_type\": \"\",\n        \"description\": \"\"\n      }\n    },\n    {\n      \"column\": \"user_id\",\n      \"properties\": {\n        \"dtype\": \"string\",\n        \"num_unique_values\": 1,\n        \"samples\": [\n          \"U002\"\n        ],\n        \"semantic_type\": \"\",\n        \"description\": \"\"\n      }\n    }\n  ]\n}"
            }
          },
          "metadata": {},
          "execution_count": 25
        }
      ],
      "source": [
        "# Mengurutkan berdasarkan movie_id\n",
        "data_sorted = movies_clean.sort_values('movie_id', ascending=True)\n",
        "\n",
        "# Memeriksa daftar genre unik\n",
        "data_sorted['genre'].unique()\n",
        "\n",
        "# Contoh: Memeriksa film dengan genre 'Thriller'\n",
        "data_sorted[data_sorted['genre'] == 'Thriller']"
      ]
    },
    {
      "cell_type": "markdown",
      "metadata": {
        "id": "eHvftl9CK09d"
      },
      "source": [
        "## Menyiapkan Data untuk Pemodelan"
      ]
    },
    {
      "cell_type": "markdown",
      "metadata": {
        "id": "WaKHwWnKK21Y"
      },
      "source": [
        "### uat dataset baru yang hanya berisi kolom penting dan hapus duplikat."
      ]
    },
    {
      "cell_type": "code",
      "execution_count": 26,
      "metadata": {
        "colab": {
          "base_uri": "https://localhost:8080/",
          "height": 206
        },
        "id": "Fm64YgI3K4d9",
        "outputId": "24e611b2-560d-4d8c-fa7e-7ee6d99248ba"
      },
      "outputs": [
        {
          "output_type": "execute_result",
          "data": {
            "text/plain": [
              "       id                 nama_film      genre\n",
              "0  100001       #FriendButMarried 2  Biography\n",
              "1  100002                  4 Mantan   Thriller\n",
              "2  100003  Aku Tahu Kapan Kamu Mati     Horror\n",
              "3  100004               Anak Garuda  Adventure\n",
              "4  100005                 Dignitate      Drama"
            ],
            "text/html": [
              "\n",
              "  <div id=\"df-e6b3b1fa-738e-4f92-afc2-3499493cf905\" class=\"colab-df-container\">\n",
              "    <div>\n",
              "<style scoped>\n",
              "    .dataframe tbody tr th:only-of-type {\n",
              "        vertical-align: middle;\n",
              "    }\n",
              "\n",
              "    .dataframe tbody tr th {\n",
              "        vertical-align: top;\n",
              "    }\n",
              "\n",
              "    .dataframe thead th {\n",
              "        text-align: right;\n",
              "    }\n",
              "</style>\n",
              "<table border=\"1\" class=\"dataframe\">\n",
              "  <thead>\n",
              "    <tr style=\"text-align: right;\">\n",
              "      <th></th>\n",
              "      <th>id</th>\n",
              "      <th>nama_film</th>\n",
              "      <th>genre</th>\n",
              "    </tr>\n",
              "  </thead>\n",
              "  <tbody>\n",
              "    <tr>\n",
              "      <th>0</th>\n",
              "      <td>100001</td>\n",
              "      <td>#FriendButMarried 2</td>\n",
              "      <td>Biography</td>\n",
              "    </tr>\n",
              "    <tr>\n",
              "      <th>1</th>\n",
              "      <td>100002</td>\n",
              "      <td>4 Mantan</td>\n",
              "      <td>Thriller</td>\n",
              "    </tr>\n",
              "    <tr>\n",
              "      <th>2</th>\n",
              "      <td>100003</td>\n",
              "      <td>Aku Tahu Kapan Kamu Mati</td>\n",
              "      <td>Horror</td>\n",
              "    </tr>\n",
              "    <tr>\n",
              "      <th>3</th>\n",
              "      <td>100004</td>\n",
              "      <td>Anak Garuda</td>\n",
              "      <td>Adventure</td>\n",
              "    </tr>\n",
              "    <tr>\n",
              "      <th>4</th>\n",
              "      <td>100005</td>\n",
              "      <td>Dignitate</td>\n",
              "      <td>Drama</td>\n",
              "    </tr>\n",
              "  </tbody>\n",
              "</table>\n",
              "</div>\n",
              "    <div class=\"colab-df-buttons\">\n",
              "\n",
              "  <div class=\"colab-df-container\">\n",
              "    <button class=\"colab-df-convert\" onclick=\"convertToInteractive('df-e6b3b1fa-738e-4f92-afc2-3499493cf905')\"\n",
              "            title=\"Convert this dataframe to an interactive table.\"\n",
              "            style=\"display:none;\">\n",
              "\n",
              "  <svg xmlns=\"http://www.w3.org/2000/svg\" height=\"24px\" viewBox=\"0 -960 960 960\">\n",
              "    <path d=\"M120-120v-720h720v720H120Zm60-500h600v-160H180v160Zm220 220h160v-160H400v160Zm0 220h160v-160H400v160ZM180-400h160v-160H180v160Zm440 0h160v-160H620v160ZM180-180h160v-160H180v160Zm440 0h160v-160H620v160Z\"/>\n",
              "  </svg>\n",
              "    </button>\n",
              "\n",
              "  <style>\n",
              "    .colab-df-container {\n",
              "      display:flex;\n",
              "      gap: 12px;\n",
              "    }\n",
              "\n",
              "    .colab-df-convert {\n",
              "      background-color: #E8F0FE;\n",
              "      border: none;\n",
              "      border-radius: 50%;\n",
              "      cursor: pointer;\n",
              "      display: none;\n",
              "      fill: #1967D2;\n",
              "      height: 32px;\n",
              "      padding: 0 0 0 0;\n",
              "      width: 32px;\n",
              "    }\n",
              "\n",
              "    .colab-df-convert:hover {\n",
              "      background-color: #E2EBFA;\n",
              "      box-shadow: 0px 1px 2px rgba(60, 64, 67, 0.3), 0px 1px 3px 1px rgba(60, 64, 67, 0.15);\n",
              "      fill: #174EA6;\n",
              "    }\n",
              "\n",
              "    .colab-df-buttons div {\n",
              "      margin-bottom: 4px;\n",
              "    }\n",
              "\n",
              "    [theme=dark] .colab-df-convert {\n",
              "      background-color: #3B4455;\n",
              "      fill: #D2E3FC;\n",
              "    }\n",
              "\n",
              "    [theme=dark] .colab-df-convert:hover {\n",
              "      background-color: #434B5C;\n",
              "      box-shadow: 0px 1px 3px 1px rgba(0, 0, 0, 0.15);\n",
              "      filter: drop-shadow(0px 1px 2px rgba(0, 0, 0, 0.3));\n",
              "      fill: #FFFFFF;\n",
              "    }\n",
              "  </style>\n",
              "\n",
              "    <script>\n",
              "      const buttonEl =\n",
              "        document.querySelector('#df-e6b3b1fa-738e-4f92-afc2-3499493cf905 button.colab-df-convert');\n",
              "      buttonEl.style.display =\n",
              "        google.colab.kernel.accessAllowed ? 'block' : 'none';\n",
              "\n",
              "      async function convertToInteractive(key) {\n",
              "        const element = document.querySelector('#df-e6b3b1fa-738e-4f92-afc2-3499493cf905');\n",
              "        const dataTable =\n",
              "          await google.colab.kernel.invokeFunction('convertToInteractive',\n",
              "                                                    [key], {});\n",
              "        if (!dataTable) return;\n",
              "\n",
              "        const docLinkHtml = 'Like what you see? Visit the ' +\n",
              "          '<a target=\"_blank\" href=https://colab.research.google.com/notebooks/data_table.ipynb>data table notebook</a>'\n",
              "          + ' to learn more about interactive tables.';\n",
              "        element.innerHTML = '';\n",
              "        dataTable['output_type'] = 'display_data';\n",
              "        await google.colab.output.renderOutput(dataTable, element);\n",
              "        const docLink = document.createElement('div');\n",
              "        docLink.innerHTML = docLinkHtml;\n",
              "        element.appendChild(docLink);\n",
              "      }\n",
              "    </script>\n",
              "  </div>\n",
              "\n",
              "\n",
              "    <div id=\"df-d24bafd5-d7c5-49bd-a0d4-16691bab5046\">\n",
              "      <button class=\"colab-df-quickchart\" onclick=\"quickchart('df-d24bafd5-d7c5-49bd-a0d4-16691bab5046')\"\n",
              "                title=\"Suggest charts\"\n",
              "                style=\"display:none;\">\n",
              "\n",
              "<svg xmlns=\"http://www.w3.org/2000/svg\" height=\"24px\"viewBox=\"0 0 24 24\"\n",
              "     width=\"24px\">\n",
              "    <g>\n",
              "        <path d=\"M19 3H5c-1.1 0-2 .9-2 2v14c0 1.1.9 2 2 2h14c1.1 0 2-.9 2-2V5c0-1.1-.9-2-2-2zM9 17H7v-7h2v7zm4 0h-2V7h2v10zm4 0h-2v-4h2v4z\"/>\n",
              "    </g>\n",
              "</svg>\n",
              "      </button>\n",
              "\n",
              "<style>\n",
              "  .colab-df-quickchart {\n",
              "      --bg-color: #E8F0FE;\n",
              "      --fill-color: #1967D2;\n",
              "      --hover-bg-color: #E2EBFA;\n",
              "      --hover-fill-color: #174EA6;\n",
              "      --disabled-fill-color: #AAA;\n",
              "      --disabled-bg-color: #DDD;\n",
              "  }\n",
              "\n",
              "  [theme=dark] .colab-df-quickchart {\n",
              "      --bg-color: #3B4455;\n",
              "      --fill-color: #D2E3FC;\n",
              "      --hover-bg-color: #434B5C;\n",
              "      --hover-fill-color: #FFFFFF;\n",
              "      --disabled-bg-color: #3B4455;\n",
              "      --disabled-fill-color: #666;\n",
              "  }\n",
              "\n",
              "  .colab-df-quickchart {\n",
              "    background-color: var(--bg-color);\n",
              "    border: none;\n",
              "    border-radius: 50%;\n",
              "    cursor: pointer;\n",
              "    display: none;\n",
              "    fill: var(--fill-color);\n",
              "    height: 32px;\n",
              "    padding: 0;\n",
              "    width: 32px;\n",
              "  }\n",
              "\n",
              "  .colab-df-quickchart:hover {\n",
              "    background-color: var(--hover-bg-color);\n",
              "    box-shadow: 0 1px 2px rgba(60, 64, 67, 0.3), 0 1px 3px 1px rgba(60, 64, 67, 0.15);\n",
              "    fill: var(--button-hover-fill-color);\n",
              "  }\n",
              "\n",
              "  .colab-df-quickchart-complete:disabled,\n",
              "  .colab-df-quickchart-complete:disabled:hover {\n",
              "    background-color: var(--disabled-bg-color);\n",
              "    fill: var(--disabled-fill-color);\n",
              "    box-shadow: none;\n",
              "  }\n",
              "\n",
              "  .colab-df-spinner {\n",
              "    border: 2px solid var(--fill-color);\n",
              "    border-color: transparent;\n",
              "    border-bottom-color: var(--fill-color);\n",
              "    animation:\n",
              "      spin 1s steps(1) infinite;\n",
              "  }\n",
              "\n",
              "  @keyframes spin {\n",
              "    0% {\n",
              "      border-color: transparent;\n",
              "      border-bottom-color: var(--fill-color);\n",
              "      border-left-color: var(--fill-color);\n",
              "    }\n",
              "    20% {\n",
              "      border-color: transparent;\n",
              "      border-left-color: var(--fill-color);\n",
              "      border-top-color: var(--fill-color);\n",
              "    }\n",
              "    30% {\n",
              "      border-color: transparent;\n",
              "      border-left-color: var(--fill-color);\n",
              "      border-top-color: var(--fill-color);\n",
              "      border-right-color: var(--fill-color);\n",
              "    }\n",
              "    40% {\n",
              "      border-color: transparent;\n",
              "      border-right-color: var(--fill-color);\n",
              "      border-top-color: var(--fill-color);\n",
              "    }\n",
              "    60% {\n",
              "      border-color: transparent;\n",
              "      border-right-color: var(--fill-color);\n",
              "    }\n",
              "    80% {\n",
              "      border-color: transparent;\n",
              "      border-right-color: var(--fill-color);\n",
              "      border-bottom-color: var(--fill-color);\n",
              "    }\n",
              "    90% {\n",
              "      border-color: transparent;\n",
              "      border-bottom-color: var(--fill-color);\n",
              "    }\n",
              "  }\n",
              "</style>\n",
              "\n",
              "      <script>\n",
              "        async function quickchart(key) {\n",
              "          const quickchartButtonEl =\n",
              "            document.querySelector('#' + key + ' button');\n",
              "          quickchartButtonEl.disabled = true;  // To prevent multiple clicks.\n",
              "          quickchartButtonEl.classList.add('colab-df-spinner');\n",
              "          try {\n",
              "            const charts = await google.colab.kernel.invokeFunction(\n",
              "                'suggestCharts', [key], {});\n",
              "          } catch (error) {\n",
              "            console.error('Error during call to suggestCharts:', error);\n",
              "          }\n",
              "          quickchartButtonEl.classList.remove('colab-df-spinner');\n",
              "          quickchartButtonEl.classList.add('colab-df-quickchart-complete');\n",
              "        }\n",
              "        (() => {\n",
              "          let quickchartButtonEl =\n",
              "            document.querySelector('#df-d24bafd5-d7c5-49bd-a0d4-16691bab5046 button');\n",
              "          quickchartButtonEl.style.display =\n",
              "            google.colab.kernel.accessAllowed ? 'block' : 'none';\n",
              "        })();\n",
              "      </script>\n",
              "    </div>\n",
              "\n",
              "    </div>\n",
              "  </div>\n"
            ],
            "application/vnd.google.colaboratory.intrinsic+json": {
              "type": "dataframe",
              "variable_name": "data_final",
              "summary": "{\n  \"name\": \"data_final\",\n  \"rows\": 286,\n  \"fields\": [\n    {\n      \"column\": \"id\",\n      \"properties\": {\n        \"dtype\": \"number\",\n        \"std\": 275,\n        \"min\": 100001,\n        \"max\": 101223,\n        \"num_unique_values\": 286,\n        \"samples\": [\n          100011,\n          100886,\n          100169\n        ],\n        \"semantic_type\": \"\",\n        \"description\": \"\"\n      }\n    },\n    {\n      \"column\": \"nama_film\",\n      \"properties\": {\n        \"dtype\": \"string\",\n        \"num_unique_values\": 286,\n        \"samples\": [\n          \"May the Devil Take You: Chapter Two\",\n          \"Tali Pocong Perawan\",\n          \"Insya Allah Sah 2\"\n        ],\n        \"semantic_type\": \"\",\n        \"description\": \"\"\n      }\n    },\n    {\n      \"column\": \"genre\",\n      \"properties\": {\n        \"dtype\": \"category\",\n        \"num_unique_values\": 11,\n        \"samples\": [\n          \"Animation\",\n          \"Biography\",\n          \"Crime\"\n        ],\n        \"semantic_type\": \"\",\n        \"description\": \"\"\n      }\n    }\n  ]\n}"
            }
          },
          "metadata": {},
          "execution_count": 26
        }
      ],
      "source": [
        "# Menghapus duplikat berdasarkan movie_id\n",
        "data_prepared = data_sorted.drop_duplicates('movie_id')\n",
        "\n",
        "# Mengonversi kolom ke dalam bentuk list\n",
        "id_film = data_prepared['movie_id'].tolist()\n",
        "nama_film = data_prepared['title'].tolist()\n",
        "genre_film = data_prepared['genre'].tolist()\n",
        "\n",
        "# Membuat DataFrame baru\n",
        "data_final = pd.DataFrame({\n",
        "    'id': id_film,\n",
        "    'nama_film': nama_film,\n",
        "    'genre': genre_film\n",
        "})\n",
        "\n",
        "# Menampilkan data\n",
        "data_final.head()"
      ]
    },
    {
      "cell_type": "markdown",
      "metadata": {
        "id": "e6buYtW1K7QP"
      },
      "source": [
        "### Data kini siap untuk digunakan dalam proses pemodelan."
      ]
    },
    {
      "cell_type": "markdown",
      "metadata": {
        "id": "wRzizB-uK_IN"
      },
      "source": [
        "# Pengembangan Model dengan Content-Based Filtering"
      ]
    },
    {
      "cell_type": "markdown",
      "metadata": {
        "id": "8tnO9LliLEJ1"
      },
      "source": [
        "## Representasi Fitur dengan TF-IDF"
      ]
    },
    {
      "cell_type": "markdown",
      "metadata": {
        "id": "tDQZ58mZLIVp"
      },
      "source": [
        "### gunakan TfidfVectorizer untuk mengubah data genre menjadi representasi numerik."
      ]
    },
    {
      "cell_type": "code",
      "execution_count": 27,
      "metadata": {
        "colab": {
          "base_uri": "https://localhost:8080/"
        },
        "id": "mwG_IDzAK9kF",
        "outputId": "c3ba87f9-e89b-4257-f33c-228f3ebafa1d"
      },
      "outputs": [
        {
          "output_type": "stream",
          "name": "stdout",
          "text": [
            "Dimensi matriks TF-IDF: (286, 11)\n"
          ]
        }
      ],
      "source": [
        "from sklearn.feature_extraction.text import TfidfVectorizer\n",
        "\n",
        "# Inisialisasi TF-IDF\n",
        "tfidf = TfidfVectorizer()\n",
        "\n",
        "# Melatih TF-IDF pada kolom genre\n",
        "tfidf.fit(data_final['genre'])\n",
        "\n",
        "# Transformasi data ke matriks TF-IDF\n",
        "tfidf_matriks = tfidf.fit_transform(data_final['genre'])\n",
        "\n",
        "# Melihat dimensi matriks\n",
        "print(f\"Dimensi matriks TF-IDF: {tfidf_matriks.shape}\")"
      ]
    },
    {
      "cell_type": "markdown",
      "metadata": {
        "id": "r1l9H__pLL5s"
      },
      "source": [
        "### Penjelasan:\n",
        "\n",
        "Dimensi matriks menunjukkan jumlah film (baris) dan jumlah genre unik (kolom)."
      ]
    },
    {
      "cell_type": "markdown",
      "metadata": {
        "id": "2lkZxSufLP7B"
      },
      "source": [
        "## Menghitung Kesamaan dengan Cosine Similarity"
      ]
    },
    {
      "cell_type": "markdown",
      "metadata": {
        "id": "cKifrVQiLRjd"
      },
      "source": [
        "### hitung kesamaan antar-film berdasarkan matriks TF-IDF."
      ]
    },
    {
      "cell_type": "code",
      "execution_count": 28,
      "metadata": {
        "colab": {
          "base_uri": "https://localhost:8080/",
          "height": 238
        },
        "id": "MEKqqa5SLUma",
        "outputId": "159aa000-cf24-4d09-b16a-d02f211e849c"
      },
      "outputs": [
        {
          "output_type": "execute_result",
          "data": {
            "text/plain": [
              "nama_film                    Bike Boyz  Bebas  Dear Nathan  Sesuai Aplikasi  \\\n",
              "nama_film                                                                     \n",
              "Rage and Honor II                  0.0    0.0          0.0              0.0   \n",
              "Gila Lu Ndro                       1.0    1.0          0.0              1.0   \n",
              "Filosofi Kopi 2: Ben & Jody        0.0    0.0          0.0              0.0   \n",
              "Revan & Reina                      0.0    0.0          1.0              0.0   \n",
              "Meet Me After Sunset               0.0    0.0          1.0              0.0   \n",
              "\n",
              "nama_film                    Marlina the Murderer in Four Acts  \n",
              "nama_film                                                       \n",
              "Rage and Honor II                                          0.0  \n",
              "Gila Lu Ndro                                               0.0  \n",
              "Filosofi Kopi 2: Ben & Jody                                0.0  \n",
              "Revan & Reina                                              1.0  \n",
              "Meet Me After Sunset                                       1.0  "
            ],
            "text/html": [
              "\n",
              "  <div id=\"df-762489d4-f814-4f78-a481-276d3352dfad\" class=\"colab-df-container\">\n",
              "    <div>\n",
              "<style scoped>\n",
              "    .dataframe tbody tr th:only-of-type {\n",
              "        vertical-align: middle;\n",
              "    }\n",
              "\n",
              "    .dataframe tbody tr th {\n",
              "        vertical-align: top;\n",
              "    }\n",
              "\n",
              "    .dataframe thead th {\n",
              "        text-align: right;\n",
              "    }\n",
              "</style>\n",
              "<table border=\"1\" class=\"dataframe\">\n",
              "  <thead>\n",
              "    <tr style=\"text-align: right;\">\n",
              "      <th>nama_film</th>\n",
              "      <th>Bike Boyz</th>\n",
              "      <th>Bebas</th>\n",
              "      <th>Dear Nathan</th>\n",
              "      <th>Sesuai Aplikasi</th>\n",
              "      <th>Marlina the Murderer in Four Acts</th>\n",
              "    </tr>\n",
              "    <tr>\n",
              "      <th>nama_film</th>\n",
              "      <th></th>\n",
              "      <th></th>\n",
              "      <th></th>\n",
              "      <th></th>\n",
              "      <th></th>\n",
              "    </tr>\n",
              "  </thead>\n",
              "  <tbody>\n",
              "    <tr>\n",
              "      <th>Rage and Honor II</th>\n",
              "      <td>0.0</td>\n",
              "      <td>0.0</td>\n",
              "      <td>0.0</td>\n",
              "      <td>0.0</td>\n",
              "      <td>0.0</td>\n",
              "    </tr>\n",
              "    <tr>\n",
              "      <th>Gila Lu Ndro</th>\n",
              "      <td>1.0</td>\n",
              "      <td>1.0</td>\n",
              "      <td>0.0</td>\n",
              "      <td>1.0</td>\n",
              "      <td>0.0</td>\n",
              "    </tr>\n",
              "    <tr>\n",
              "      <th>Filosofi Kopi 2: Ben &amp; Jody</th>\n",
              "      <td>0.0</td>\n",
              "      <td>0.0</td>\n",
              "      <td>0.0</td>\n",
              "      <td>0.0</td>\n",
              "      <td>0.0</td>\n",
              "    </tr>\n",
              "    <tr>\n",
              "      <th>Revan &amp; Reina</th>\n",
              "      <td>0.0</td>\n",
              "      <td>0.0</td>\n",
              "      <td>1.0</td>\n",
              "      <td>0.0</td>\n",
              "      <td>1.0</td>\n",
              "    </tr>\n",
              "    <tr>\n",
              "      <th>Meet Me After Sunset</th>\n",
              "      <td>0.0</td>\n",
              "      <td>0.0</td>\n",
              "      <td>1.0</td>\n",
              "      <td>0.0</td>\n",
              "      <td>1.0</td>\n",
              "    </tr>\n",
              "  </tbody>\n",
              "</table>\n",
              "</div>\n",
              "    <div class=\"colab-df-buttons\">\n",
              "\n",
              "  <div class=\"colab-df-container\">\n",
              "    <button class=\"colab-df-convert\" onclick=\"convertToInteractive('df-762489d4-f814-4f78-a481-276d3352dfad')\"\n",
              "            title=\"Convert this dataframe to an interactive table.\"\n",
              "            style=\"display:none;\">\n",
              "\n",
              "  <svg xmlns=\"http://www.w3.org/2000/svg\" height=\"24px\" viewBox=\"0 -960 960 960\">\n",
              "    <path d=\"M120-120v-720h720v720H120Zm60-500h600v-160H180v160Zm220 220h160v-160H400v160Zm0 220h160v-160H400v160ZM180-400h160v-160H180v160Zm440 0h160v-160H620v160ZM180-180h160v-160H180v160Zm440 0h160v-160H620v160Z\"/>\n",
              "  </svg>\n",
              "    </button>\n",
              "\n",
              "  <style>\n",
              "    .colab-df-container {\n",
              "      display:flex;\n",
              "      gap: 12px;\n",
              "    }\n",
              "\n",
              "    .colab-df-convert {\n",
              "      background-color: #E8F0FE;\n",
              "      border: none;\n",
              "      border-radius: 50%;\n",
              "      cursor: pointer;\n",
              "      display: none;\n",
              "      fill: #1967D2;\n",
              "      height: 32px;\n",
              "      padding: 0 0 0 0;\n",
              "      width: 32px;\n",
              "    }\n",
              "\n",
              "    .colab-df-convert:hover {\n",
              "      background-color: #E2EBFA;\n",
              "      box-shadow: 0px 1px 2px rgba(60, 64, 67, 0.3), 0px 1px 3px 1px rgba(60, 64, 67, 0.15);\n",
              "      fill: #174EA6;\n",
              "    }\n",
              "\n",
              "    .colab-df-buttons div {\n",
              "      margin-bottom: 4px;\n",
              "    }\n",
              "\n",
              "    [theme=dark] .colab-df-convert {\n",
              "      background-color: #3B4455;\n",
              "      fill: #D2E3FC;\n",
              "    }\n",
              "\n",
              "    [theme=dark] .colab-df-convert:hover {\n",
              "      background-color: #434B5C;\n",
              "      box-shadow: 0px 1px 3px 1px rgba(0, 0, 0, 0.15);\n",
              "      filter: drop-shadow(0px 1px 2px rgba(0, 0, 0, 0.3));\n",
              "      fill: #FFFFFF;\n",
              "    }\n",
              "  </style>\n",
              "\n",
              "    <script>\n",
              "      const buttonEl =\n",
              "        document.querySelector('#df-762489d4-f814-4f78-a481-276d3352dfad button.colab-df-convert');\n",
              "      buttonEl.style.display =\n",
              "        google.colab.kernel.accessAllowed ? 'block' : 'none';\n",
              "\n",
              "      async function convertToInteractive(key) {\n",
              "        const element = document.querySelector('#df-762489d4-f814-4f78-a481-276d3352dfad');\n",
              "        const dataTable =\n",
              "          await google.colab.kernel.invokeFunction('convertToInteractive',\n",
              "                                                    [key], {});\n",
              "        if (!dataTable) return;\n",
              "\n",
              "        const docLinkHtml = 'Like what you see? Visit the ' +\n",
              "          '<a target=\"_blank\" href=https://colab.research.google.com/notebooks/data_table.ipynb>data table notebook</a>'\n",
              "          + ' to learn more about interactive tables.';\n",
              "        element.innerHTML = '';\n",
              "        dataTable['output_type'] = 'display_data';\n",
              "        await google.colab.output.renderOutput(dataTable, element);\n",
              "        const docLink = document.createElement('div');\n",
              "        docLink.innerHTML = docLinkHtml;\n",
              "        element.appendChild(docLink);\n",
              "      }\n",
              "    </script>\n",
              "  </div>\n",
              "\n",
              "\n",
              "    <div id=\"df-159860cd-9ee7-4bb8-9ff3-7be1a73cf069\">\n",
              "      <button class=\"colab-df-quickchart\" onclick=\"quickchart('df-159860cd-9ee7-4bb8-9ff3-7be1a73cf069')\"\n",
              "                title=\"Suggest charts\"\n",
              "                style=\"display:none;\">\n",
              "\n",
              "<svg xmlns=\"http://www.w3.org/2000/svg\" height=\"24px\"viewBox=\"0 0 24 24\"\n",
              "     width=\"24px\">\n",
              "    <g>\n",
              "        <path d=\"M19 3H5c-1.1 0-2 .9-2 2v14c0 1.1.9 2 2 2h14c1.1 0 2-.9 2-2V5c0-1.1-.9-2-2-2zM9 17H7v-7h2v7zm4 0h-2V7h2v10zm4 0h-2v-4h2v4z\"/>\n",
              "    </g>\n",
              "</svg>\n",
              "      </button>\n",
              "\n",
              "<style>\n",
              "  .colab-df-quickchart {\n",
              "      --bg-color: #E8F0FE;\n",
              "      --fill-color: #1967D2;\n",
              "      --hover-bg-color: #E2EBFA;\n",
              "      --hover-fill-color: #174EA6;\n",
              "      --disabled-fill-color: #AAA;\n",
              "      --disabled-bg-color: #DDD;\n",
              "  }\n",
              "\n",
              "  [theme=dark] .colab-df-quickchart {\n",
              "      --bg-color: #3B4455;\n",
              "      --fill-color: #D2E3FC;\n",
              "      --hover-bg-color: #434B5C;\n",
              "      --hover-fill-color: #FFFFFF;\n",
              "      --disabled-bg-color: #3B4455;\n",
              "      --disabled-fill-color: #666;\n",
              "  }\n",
              "\n",
              "  .colab-df-quickchart {\n",
              "    background-color: var(--bg-color);\n",
              "    border: none;\n",
              "    border-radius: 50%;\n",
              "    cursor: pointer;\n",
              "    display: none;\n",
              "    fill: var(--fill-color);\n",
              "    height: 32px;\n",
              "    padding: 0;\n",
              "    width: 32px;\n",
              "  }\n",
              "\n",
              "  .colab-df-quickchart:hover {\n",
              "    background-color: var(--hover-bg-color);\n",
              "    box-shadow: 0 1px 2px rgba(60, 64, 67, 0.3), 0 1px 3px 1px rgba(60, 64, 67, 0.15);\n",
              "    fill: var(--button-hover-fill-color);\n",
              "  }\n",
              "\n",
              "  .colab-df-quickchart-complete:disabled,\n",
              "  .colab-df-quickchart-complete:disabled:hover {\n",
              "    background-color: var(--disabled-bg-color);\n",
              "    fill: var(--disabled-fill-color);\n",
              "    box-shadow: none;\n",
              "  }\n",
              "\n",
              "  .colab-df-spinner {\n",
              "    border: 2px solid var(--fill-color);\n",
              "    border-color: transparent;\n",
              "    border-bottom-color: var(--fill-color);\n",
              "    animation:\n",
              "      spin 1s steps(1) infinite;\n",
              "  }\n",
              "\n",
              "  @keyframes spin {\n",
              "    0% {\n",
              "      border-color: transparent;\n",
              "      border-bottom-color: var(--fill-color);\n",
              "      border-left-color: var(--fill-color);\n",
              "    }\n",
              "    20% {\n",
              "      border-color: transparent;\n",
              "      border-left-color: var(--fill-color);\n",
              "      border-top-color: var(--fill-color);\n",
              "    }\n",
              "    30% {\n",
              "      border-color: transparent;\n",
              "      border-left-color: var(--fill-color);\n",
              "      border-top-color: var(--fill-color);\n",
              "      border-right-color: var(--fill-color);\n",
              "    }\n",
              "    40% {\n",
              "      border-color: transparent;\n",
              "      border-right-color: var(--fill-color);\n",
              "      border-top-color: var(--fill-color);\n",
              "    }\n",
              "    60% {\n",
              "      border-color: transparent;\n",
              "      border-right-color: var(--fill-color);\n",
              "    }\n",
              "    80% {\n",
              "      border-color: transparent;\n",
              "      border-right-color: var(--fill-color);\n",
              "      border-bottom-color: var(--fill-color);\n",
              "    }\n",
              "    90% {\n",
              "      border-color: transparent;\n",
              "      border-bottom-color: var(--fill-color);\n",
              "    }\n",
              "  }\n",
              "</style>\n",
              "\n",
              "      <script>\n",
              "        async function quickchart(key) {\n",
              "          const quickchartButtonEl =\n",
              "            document.querySelector('#' + key + ' button');\n",
              "          quickchartButtonEl.disabled = true;  // To prevent multiple clicks.\n",
              "          quickchartButtonEl.classList.add('colab-df-spinner');\n",
              "          try {\n",
              "            const charts = await google.colab.kernel.invokeFunction(\n",
              "                'suggestCharts', [key], {});\n",
              "          } catch (error) {\n",
              "            console.error('Error during call to suggestCharts:', error);\n",
              "          }\n",
              "          quickchartButtonEl.classList.remove('colab-df-spinner');\n",
              "          quickchartButtonEl.classList.add('colab-df-quickchart-complete');\n",
              "        }\n",
              "        (() => {\n",
              "          let quickchartButtonEl =\n",
              "            document.querySelector('#df-159860cd-9ee7-4bb8-9ff3-7be1a73cf069 button');\n",
              "          quickchartButtonEl.style.display =\n",
              "            google.colab.kernel.accessAllowed ? 'block' : 'none';\n",
              "        })();\n",
              "      </script>\n",
              "    </div>\n",
              "\n",
              "    </div>\n",
              "  </div>\n"
            ],
            "application/vnd.google.colaboratory.intrinsic+json": {
              "type": "dataframe",
              "summary": "{\n  \"name\": \"df_kesamaan\",\n  \"rows\": 5,\n  \"fields\": [\n    {\n      \"column\": \"nama_film\",\n      \"properties\": {\n        \"dtype\": \"string\",\n        \"num_unique_values\": 5,\n        \"samples\": [\n          \"Gila Lu Ndro\",\n          \"Meet Me After Sunset\",\n          \"Filosofi Kopi 2: Ben & Jody\"\n        ],\n        \"semantic_type\": \"\",\n        \"description\": \"\"\n      }\n    },\n    {\n      \"column\": \"Bike Boyz\",\n      \"properties\": {\n        \"dtype\": \"number\",\n        \"std\": 0.44721359549995804,\n        \"min\": 0.0,\n        \"max\": 1.0,\n        \"num_unique_values\": 2,\n        \"samples\": [\n          1.0,\n          0.0\n        ],\n        \"semantic_type\": \"\",\n        \"description\": \"\"\n      }\n    },\n    {\n      \"column\": \"Bebas\",\n      \"properties\": {\n        \"dtype\": \"number\",\n        \"std\": 0.44721359549995804,\n        \"min\": 0.0,\n        \"max\": 1.0,\n        \"num_unique_values\": 2,\n        \"samples\": [\n          1.0,\n          0.0\n        ],\n        \"semantic_type\": \"\",\n        \"description\": \"\"\n      }\n    },\n    {\n      \"column\": \"Dear Nathan\",\n      \"properties\": {\n        \"dtype\": \"number\",\n        \"std\": 0.5477225575051662,\n        \"min\": 0.0,\n        \"max\": 1.0,\n        \"num_unique_values\": 2,\n        \"samples\": [\n          1.0,\n          0.0\n        ],\n        \"semantic_type\": \"\",\n        \"description\": \"\"\n      }\n    },\n    {\n      \"column\": \"Sesuai Aplikasi\",\n      \"properties\": {\n        \"dtype\": \"number\",\n        \"std\": 0.44721359549995804,\n        \"min\": 0.0,\n        \"max\": 1.0,\n        \"num_unique_values\": 2,\n        \"samples\": [\n          1.0,\n          0.0\n        ],\n        \"semantic_type\": \"\",\n        \"description\": \"\"\n      }\n    },\n    {\n      \"column\": \"Marlina the Murderer in Four Acts\",\n      \"properties\": {\n        \"dtype\": \"number\",\n        \"std\": 0.5477225575051662,\n        \"min\": 0.0,\n        \"max\": 1.0,\n        \"num_unique_values\": 2,\n        \"samples\": [\n          1.0,\n          0.0\n        ],\n        \"semantic_type\": \"\",\n        \"description\": \"\"\n      }\n    }\n  ]\n}"
            }
          },
          "metadata": {},
          "execution_count": 28
        }
      ],
      "source": [
        "from sklearn.metrics.pairwise import cosine_similarity\n",
        "\n",
        "# Menghitung cosine similarity\n",
        "kesamaan = cosine_similarity(tfidf_matriks)\n",
        "\n",
        "# Membuat DataFrame kesamaan\n",
        "df_kesamaan = pd.DataFrame(kesamaan, index=data_final['nama_film'], columns=data_final['nama_film'])\n",
        "\n",
        "# Menampilkan sampel\n",
        "df_kesamaan.sample(5, axis=1).sample(5, axis=0)"
      ]
    },
    {
      "cell_type": "markdown",
      "metadata": {
        "id": "Ho9Si-EVLXBo"
      },
      "source": [
        "### Penjelasan:\n",
        "\n",
        "Nilai 1.0 menunjukkan dua film memiliki genre yang sama.\n",
        "Nilai mendekati 0 menunjukkan perbedaan genre."
      ]
    },
    {
      "cell_type": "markdown",
      "metadata": {
        "id": "SguWDRDFLZMf"
      },
      "source": [
        "## Fungsi Rekomendasi Film"
      ]
    },
    {
      "cell_type": "markdown",
      "metadata": {
        "id": "QHoDG4omLcMG"
      },
      "source": [
        "### buat fungsi untuk memberikan rekomendasi berdasarkan nama film."
      ]
    },
    {
      "cell_type": "code",
      "execution_count": 29,
      "metadata": {
        "colab": {
          "base_uri": "https://localhost:8080/",
          "height": 206
        },
        "id": "0C_DlFqhLdtO",
        "outputId": "5ff8b04e-9041-4236-d4c2-2d7f18166090"
      },
      "outputs": [
        {
          "output_type": "execute_result",
          "data": {
            "text/plain": [
              "                          nama_film  genre\n",
              "0  Hanum & Rangga: Faith & The City  Drama\n",
              "1                       Dear Nathan  Drama\n",
              "2                       Labuan Hati  Drama\n",
              "3                        Mata Batin  Drama\n",
              "4                   Love for Sale 2  Drama"
            ],
            "text/html": [
              "\n",
              "  <div id=\"df-7029b823-0d77-4fc3-b56f-cdae90db49ab\" class=\"colab-df-container\">\n",
              "    <div>\n",
              "<style scoped>\n",
              "    .dataframe tbody tr th:only-of-type {\n",
              "        vertical-align: middle;\n",
              "    }\n",
              "\n",
              "    .dataframe tbody tr th {\n",
              "        vertical-align: top;\n",
              "    }\n",
              "\n",
              "    .dataframe thead th {\n",
              "        text-align: right;\n",
              "    }\n",
              "</style>\n",
              "<table border=\"1\" class=\"dataframe\">\n",
              "  <thead>\n",
              "    <tr style=\"text-align: right;\">\n",
              "      <th></th>\n",
              "      <th>nama_film</th>\n",
              "      <th>genre</th>\n",
              "    </tr>\n",
              "  </thead>\n",
              "  <tbody>\n",
              "    <tr>\n",
              "      <th>0</th>\n",
              "      <td>Hanum &amp; Rangga: Faith &amp; The City</td>\n",
              "      <td>Drama</td>\n",
              "    </tr>\n",
              "    <tr>\n",
              "      <th>1</th>\n",
              "      <td>Dear Nathan</td>\n",
              "      <td>Drama</td>\n",
              "    </tr>\n",
              "    <tr>\n",
              "      <th>2</th>\n",
              "      <td>Labuan Hati</td>\n",
              "      <td>Drama</td>\n",
              "    </tr>\n",
              "    <tr>\n",
              "      <th>3</th>\n",
              "      <td>Mata Batin</td>\n",
              "      <td>Drama</td>\n",
              "    </tr>\n",
              "    <tr>\n",
              "      <th>4</th>\n",
              "      <td>Love for Sale 2</td>\n",
              "      <td>Drama</td>\n",
              "    </tr>\n",
              "  </tbody>\n",
              "</table>\n",
              "</div>\n",
              "    <div class=\"colab-df-buttons\">\n",
              "\n",
              "  <div class=\"colab-df-container\">\n",
              "    <button class=\"colab-df-convert\" onclick=\"convertToInteractive('df-7029b823-0d77-4fc3-b56f-cdae90db49ab')\"\n",
              "            title=\"Convert this dataframe to an interactive table.\"\n",
              "            style=\"display:none;\">\n",
              "\n",
              "  <svg xmlns=\"http://www.w3.org/2000/svg\" height=\"24px\" viewBox=\"0 -960 960 960\">\n",
              "    <path d=\"M120-120v-720h720v720H120Zm60-500h600v-160H180v160Zm220 220h160v-160H400v160Zm0 220h160v-160H400v160ZM180-400h160v-160H180v160Zm440 0h160v-160H620v160ZM180-180h160v-160H180v160Zm440 0h160v-160H620v160Z\"/>\n",
              "  </svg>\n",
              "    </button>\n",
              "\n",
              "  <style>\n",
              "    .colab-df-container {\n",
              "      display:flex;\n",
              "      gap: 12px;\n",
              "    }\n",
              "\n",
              "    .colab-df-convert {\n",
              "      background-color: #E8F0FE;\n",
              "      border: none;\n",
              "      border-radius: 50%;\n",
              "      cursor: pointer;\n",
              "      display: none;\n",
              "      fill: #1967D2;\n",
              "      height: 32px;\n",
              "      padding: 0 0 0 0;\n",
              "      width: 32px;\n",
              "    }\n",
              "\n",
              "    .colab-df-convert:hover {\n",
              "      background-color: #E2EBFA;\n",
              "      box-shadow: 0px 1px 2px rgba(60, 64, 67, 0.3), 0px 1px 3px 1px rgba(60, 64, 67, 0.15);\n",
              "      fill: #174EA6;\n",
              "    }\n",
              "\n",
              "    .colab-df-buttons div {\n",
              "      margin-bottom: 4px;\n",
              "    }\n",
              "\n",
              "    [theme=dark] .colab-df-convert {\n",
              "      background-color: #3B4455;\n",
              "      fill: #D2E3FC;\n",
              "    }\n",
              "\n",
              "    [theme=dark] .colab-df-convert:hover {\n",
              "      background-color: #434B5C;\n",
              "      box-shadow: 0px 1px 3px 1px rgba(0, 0, 0, 0.15);\n",
              "      filter: drop-shadow(0px 1px 2px rgba(0, 0, 0, 0.3));\n",
              "      fill: #FFFFFF;\n",
              "    }\n",
              "  </style>\n",
              "\n",
              "    <script>\n",
              "      const buttonEl =\n",
              "        document.querySelector('#df-7029b823-0d77-4fc3-b56f-cdae90db49ab button.colab-df-convert');\n",
              "      buttonEl.style.display =\n",
              "        google.colab.kernel.accessAllowed ? 'block' : 'none';\n",
              "\n",
              "      async function convertToInteractive(key) {\n",
              "        const element = document.querySelector('#df-7029b823-0d77-4fc3-b56f-cdae90db49ab');\n",
              "        const dataTable =\n",
              "          await google.colab.kernel.invokeFunction('convertToInteractive',\n",
              "                                                    [key], {});\n",
              "        if (!dataTable) return;\n",
              "\n",
              "        const docLinkHtml = 'Like what you see? Visit the ' +\n",
              "          '<a target=\"_blank\" href=https://colab.research.google.com/notebooks/data_table.ipynb>data table notebook</a>'\n",
              "          + ' to learn more about interactive tables.';\n",
              "        element.innerHTML = '';\n",
              "        dataTable['output_type'] = 'display_data';\n",
              "        await google.colab.output.renderOutput(dataTable, element);\n",
              "        const docLink = document.createElement('div');\n",
              "        docLink.innerHTML = docLinkHtml;\n",
              "        element.appendChild(docLink);\n",
              "      }\n",
              "    </script>\n",
              "  </div>\n",
              "\n",
              "\n",
              "    <div id=\"df-2a74e081-bf7c-4b4c-bcb3-916f843844f5\">\n",
              "      <button class=\"colab-df-quickchart\" onclick=\"quickchart('df-2a74e081-bf7c-4b4c-bcb3-916f843844f5')\"\n",
              "                title=\"Suggest charts\"\n",
              "                style=\"display:none;\">\n",
              "\n",
              "<svg xmlns=\"http://www.w3.org/2000/svg\" height=\"24px\"viewBox=\"0 0 24 24\"\n",
              "     width=\"24px\">\n",
              "    <g>\n",
              "        <path d=\"M19 3H5c-1.1 0-2 .9-2 2v14c0 1.1.9 2 2 2h14c1.1 0 2-.9 2-2V5c0-1.1-.9-2-2-2zM9 17H7v-7h2v7zm4 0h-2V7h2v10zm4 0h-2v-4h2v4z\"/>\n",
              "    </g>\n",
              "</svg>\n",
              "      </button>\n",
              "\n",
              "<style>\n",
              "  .colab-df-quickchart {\n",
              "      --bg-color: #E8F0FE;\n",
              "      --fill-color: #1967D2;\n",
              "      --hover-bg-color: #E2EBFA;\n",
              "      --hover-fill-color: #174EA6;\n",
              "      --disabled-fill-color: #AAA;\n",
              "      --disabled-bg-color: #DDD;\n",
              "  }\n",
              "\n",
              "  [theme=dark] .colab-df-quickchart {\n",
              "      --bg-color: #3B4455;\n",
              "      --fill-color: #D2E3FC;\n",
              "      --hover-bg-color: #434B5C;\n",
              "      --hover-fill-color: #FFFFFF;\n",
              "      --disabled-bg-color: #3B4455;\n",
              "      --disabled-fill-color: #666;\n",
              "  }\n",
              "\n",
              "  .colab-df-quickchart {\n",
              "    background-color: var(--bg-color);\n",
              "    border: none;\n",
              "    border-radius: 50%;\n",
              "    cursor: pointer;\n",
              "    display: none;\n",
              "    fill: var(--fill-color);\n",
              "    height: 32px;\n",
              "    padding: 0;\n",
              "    width: 32px;\n",
              "  }\n",
              "\n",
              "  .colab-df-quickchart:hover {\n",
              "    background-color: var(--hover-bg-color);\n",
              "    box-shadow: 0 1px 2px rgba(60, 64, 67, 0.3), 0 1px 3px 1px rgba(60, 64, 67, 0.15);\n",
              "    fill: var(--button-hover-fill-color);\n",
              "  }\n",
              "\n",
              "  .colab-df-quickchart-complete:disabled,\n",
              "  .colab-df-quickchart-complete:disabled:hover {\n",
              "    background-color: var(--disabled-bg-color);\n",
              "    fill: var(--disabled-fill-color);\n",
              "    box-shadow: none;\n",
              "  }\n",
              "\n",
              "  .colab-df-spinner {\n",
              "    border: 2px solid var(--fill-color);\n",
              "    border-color: transparent;\n",
              "    border-bottom-color: var(--fill-color);\n",
              "    animation:\n",
              "      spin 1s steps(1) infinite;\n",
              "  }\n",
              "\n",
              "  @keyframes spin {\n",
              "    0% {\n",
              "      border-color: transparent;\n",
              "      border-bottom-color: var(--fill-color);\n",
              "      border-left-color: var(--fill-color);\n",
              "    }\n",
              "    20% {\n",
              "      border-color: transparent;\n",
              "      border-left-color: var(--fill-color);\n",
              "      border-top-color: var(--fill-color);\n",
              "    }\n",
              "    30% {\n",
              "      border-color: transparent;\n",
              "      border-left-color: var(--fill-color);\n",
              "      border-top-color: var(--fill-color);\n",
              "      border-right-color: var(--fill-color);\n",
              "    }\n",
              "    40% {\n",
              "      border-color: transparent;\n",
              "      border-right-color: var(--fill-color);\n",
              "      border-top-color: var(--fill-color);\n",
              "    }\n",
              "    60% {\n",
              "      border-color: transparent;\n",
              "      border-right-color: var(--fill-color);\n",
              "    }\n",
              "    80% {\n",
              "      border-color: transparent;\n",
              "      border-right-color: var(--fill-color);\n",
              "      border-bottom-color: var(--fill-color);\n",
              "    }\n",
              "    90% {\n",
              "      border-color: transparent;\n",
              "      border-bottom-color: var(--fill-color);\n",
              "    }\n",
              "  }\n",
              "</style>\n",
              "\n",
              "      <script>\n",
              "        async function quickchart(key) {\n",
              "          const quickchartButtonEl =\n",
              "            document.querySelector('#' + key + ' button');\n",
              "          quickchartButtonEl.disabled = true;  // To prevent multiple clicks.\n",
              "          quickchartButtonEl.classList.add('colab-df-spinner');\n",
              "          try {\n",
              "            const charts = await google.colab.kernel.invokeFunction(\n",
              "                'suggestCharts', [key], {});\n",
              "          } catch (error) {\n",
              "            console.error('Error during call to suggestCharts:', error);\n",
              "          }\n",
              "          quickchartButtonEl.classList.remove('colab-df-spinner');\n",
              "          quickchartButtonEl.classList.add('colab-df-quickchart-complete');\n",
              "        }\n",
              "        (() => {\n",
              "          let quickchartButtonEl =\n",
              "            document.querySelector('#df-2a74e081-bf7c-4b4c-bcb3-916f843844f5 button');\n",
              "          quickchartButtonEl.style.display =\n",
              "            google.colab.kernel.accessAllowed ? 'block' : 'none';\n",
              "        })();\n",
              "      </script>\n",
              "    </div>\n",
              "\n",
              "    </div>\n",
              "  </div>\n"
            ],
            "application/vnd.google.colaboratory.intrinsic+json": {
              "type": "dataframe",
              "summary": "{\n  \"name\": \"rekomendasi_film('MeloDylan')\",\n  \"rows\": 5,\n  \"fields\": [\n    {\n      \"column\": \"nama_film\",\n      \"properties\": {\n        \"dtype\": \"string\",\n        \"num_unique_values\": 5,\n        \"samples\": [\n          \"Dear Nathan\",\n          \"Love for Sale 2\",\n          \"Labuan Hati\"\n        ],\n        \"semantic_type\": \"\",\n        \"description\": \"\"\n      }\n    },\n    {\n      \"column\": \"genre\",\n      \"properties\": {\n        \"dtype\": \"category\",\n        \"num_unique_values\": 1,\n        \"samples\": [\n          \"Drama\"\n        ],\n        \"semantic_type\": \"\",\n        \"description\": \"\"\n      }\n    }\n  ]\n}"
            }
          },
          "metadata": {},
          "execution_count": 29
        }
      ],
      "source": [
        "def rekomendasi_film(nama_film, data_kesamaan=df_kesamaan, data_film=data_final[['nama_film', 'genre']], jumlah=5):\n",
        "    # Mengambil indeks film dengan kesamaan tertinggi\n",
        "    indeks = data_kesamaan.loc[:, nama_film].to_numpy().argpartition(range(-1, -jumlah, -1))\n",
        "    film_terdekat = data_kesamaan.columns[indeks[-1:-(jumlah+2):-1]]\n",
        "\n",
        "    # Menghapus film yang dicari dari hasil rekomendasi\n",
        "    film_terdekat = film_terdekat.drop(nama_film, errors='ignore')\n",
        "\n",
        "    # Mengembalikan hasil rekomendasi\n",
        "    return pd.DataFrame(film_terdekat).merge(data_film).head(jumlah)\n",
        "\n",
        "# Contoh penggunaan\n",
        "rekomendasi_film('MeloDylan')"
      ]
    },
    {
      "cell_type": "markdown",
      "metadata": {
        "id": "G8ONDZJ2LgDk"
      },
      "source": [
        "### Hasil:\n",
        "\n",
        "Fungsi ini akan mengembalikan 5 film dengan genre serupa (misalnya, Drama) berdasarkan film yang dipilih."
      ]
    },
    {
      "cell_type": "markdown",
      "metadata": {
        "id": "cP73Ea2GLi7V"
      },
      "source": [
        "# Pengembangan Model dengan Collaborative Filtering"
      ]
    },
    {
      "cell_type": "markdown",
      "metadata": {
        "id": "OPDhL8JmLpH1"
      },
      "source": [
        "## Persiapan Data"
      ]
    },
    {
      "cell_type": "markdown",
      "metadata": {
        "id": "elXLJ78JLrB3"
      },
      "source": [
        "### siapkan data dengan hanya menyisakan kolom yang relevan."
      ]
    },
    {
      "cell_type": "code",
      "execution_count": 30,
      "metadata": {
        "colab": {
          "base_uri": "https://localhost:8080/"
        },
        "id": "mptZ19XYLsXi",
        "outputId": "1def0fe2-b294-4c98-8013-918a7f1eecf6"
      },
      "outputs": [
        {
          "output_type": "stream",
          "name": "stdout",
          "text": [
            "Jumlah user: 1272, Jumlah film: 1272\n"
          ]
        }
      ],
      "source": [
        "# Memilih kolom yang diperlukan\n",
        "data_cf = data_film[['movie_id', 'user_id', 'users_rating']].drop_duplicates()\n",
        "\n",
        "# Encoding user_id dan movie_id\n",
        "user_unik = data_cf['user_id'].unique().tolist()\n",
        "user_ke_indeks = {val: idx for idx, val in enumerate(user_unik)}\n",
        "movie_unik = data_cf['movie_id'].unique().tolist()\n",
        "movie_ke_indeks = {val: idx for idx, val in enumerate(movie_unik)}\n",
        "\n",
        "# Mapping ke DataFrame\n",
        "data_cf['user'] = data_cf['user_id'].map(user_ke_indeks)\n",
        "data_cf['movie'] = data_cf['movie_id'].map(movie_ke_indeks)\n",
        "\n",
        "# Informasi jumlah user dan film\n",
        "jumlah_user = len(user_ke_indeks)\n",
        "jumlah_film = len(movie_ke_indeks)\n",
        "print(f\"Jumlah user: {jumlah_user}, Jumlah film: {jumlah_film}\")\n",
        "\n",
        "# Normalisasi rating ke skala 0-1\n",
        "data_cf['users_rating'] = data_cf['users_rating'].astype(float)\n",
        "min_rating = data_cf['users_rating'].min()\n",
        "max_rating = data_cf['users_rating'].max()"
      ]
    },
    {
      "cell_type": "markdown",
      "metadata": {
        "id": "4GVQTasHL1FD"
      },
      "source": [
        "## Membagi Data untuk Pelatihan dan Validasi"
      ]
    },
    {
      "cell_type": "markdown",
      "metadata": {
        "id": "sjukT51sMCSD"
      },
      "source": [
        "### bagi data menjadi 80% untuk pelatihan dan 20% untuk validasi."
      ]
    },
    {
      "cell_type": "code",
      "execution_count": 31,
      "metadata": {
        "id": "fxKF0GQFMDs2"
      },
      "outputs": [],
      "source": [
        "# Mengacak data\n",
        "data_cf = data_cf.sample(frac=1, random_state=42)\n",
        "\n",
        "# Membuat input (x) dan target (y)\n",
        "x = data_cf[['user', 'movie']].values\n",
        "y = data_cf['users_rating'].apply(lambda r: (r - min_rating) / (max_rating - min_rating)).values\n",
        "\n",
        "# Membagi data\n",
        "indeks_pelatihan = int(0.8 * len(data_cf))\n",
        "x_train, x_val = x[:indeks_pelatihan], x[indeks_pelatihan:]\n",
        "y_train, y_val = y[:indeks_pelatihan], y[indeks_pelatihan:]"
      ]
    },
    {
      "cell_type": "markdown",
      "metadata": {
        "id": "GmUPH7FEMF_7"
      },
      "source": [
        "## Membangun Model"
      ]
    },
    {
      "cell_type": "markdown",
      "metadata": {
        "id": "fOQ1kS5bMHwr"
      },
      "source": [
        "### gunakan TensorFlow untuk membuat model Collaborative Filtering."
      ]
    },
    {
      "cell_type": "code",
      "execution_count": 32,
      "metadata": {
        "colab": {
          "base_uri": "https://localhost:8080/"
        },
        "id": "-gh27f3fMJfI",
        "outputId": "100b05d7-5ac3-4069-e7ce-c9346342640d"
      },
      "outputs": [
        {
          "output_type": "stream",
          "name": "stdout",
          "text": [
            "Epoch 1/100\n",
            "\u001b[1m128/128\u001b[0m \u001b[32m━━━━━━━━━━━━━━━━━━━━\u001b[0m\u001b[37m\u001b[0m \u001b[1m2s\u001b[0m 6ms/step - loss: 0.6934 - root_mean_squared_error: 0.2012 - val_loss: 0.6927 - val_root_mean_squared_error: 0.1942\n",
            "Epoch 2/100\n",
            "\u001b[1m128/128\u001b[0m \u001b[32m━━━━━━━━━━━━━━━━━━━━\u001b[0m\u001b[37m\u001b[0m \u001b[1m1s\u001b[0m 4ms/step - loss: 0.6762 - root_mean_squared_error: 0.1800 - val_loss: 0.6929 - val_root_mean_squared_error: 0.1944\n",
            "Epoch 3/100\n",
            "\u001b[1m128/128\u001b[0m \u001b[32m━━━━━━━━━━━━━━━━━━━━\u001b[0m\u001b[37m\u001b[0m \u001b[1m1s\u001b[0m 4ms/step - loss: 0.6674 - root_mean_squared_error: 0.1624 - val_loss: 0.6930 - val_root_mean_squared_error: 0.1944\n",
            "Epoch 4/100\n",
            "\u001b[1m128/128\u001b[0m \u001b[32m━━━━━━━━━━━━━━━━━━━━\u001b[0m\u001b[37m\u001b[0m \u001b[1m1s\u001b[0m 4ms/step - loss: 0.6676 - root_mean_squared_error: 0.1618 - val_loss: 0.6930 - val_root_mean_squared_error: 0.1945\n",
            "Epoch 5/100\n",
            "\u001b[1m128/128\u001b[0m \u001b[32m━━━━━━━━━━━━━━━━━━━━\u001b[0m\u001b[37m\u001b[0m \u001b[1m1s\u001b[0m 4ms/step - loss: 0.6594 - root_mean_squared_error: 0.1547 - val_loss: 0.6930 - val_root_mean_squared_error: 0.1945\n",
            "Epoch 6/100\n",
            "\u001b[1m128/128\u001b[0m \u001b[32m━━━━━━━━━━━━━━━━━━━━\u001b[0m\u001b[37m\u001b[0m \u001b[1m1s\u001b[0m 4ms/step - loss: 0.6603 - root_mean_squared_error: 0.1509 - val_loss: 0.6930 - val_root_mean_squared_error: 0.1945\n",
            "Epoch 7/100\n",
            "\u001b[1m128/128\u001b[0m \u001b[32m━━━━━━━━━━━━━━━━━━━━\u001b[0m\u001b[37m\u001b[0m \u001b[1m1s\u001b[0m 4ms/step - loss: 0.6563 - root_mean_squared_error: 0.1440 - val_loss: 0.6930 - val_root_mean_squared_error: 0.1945\n",
            "Epoch 8/100\n",
            "\u001b[1m128/128\u001b[0m \u001b[32m━━━━━━━━━━━━━━━━━━━━\u001b[0m\u001b[37m\u001b[0m \u001b[1m1s\u001b[0m 4ms/step - loss: 0.6557 - root_mean_squared_error: 0.1373 - val_loss: 0.6930 - val_root_mean_squared_error: 0.1945\n",
            "Epoch 9/100\n",
            "\u001b[1m128/128\u001b[0m \u001b[32m━━━━━━━━━━━━━━━━━━━━\u001b[0m\u001b[37m\u001b[0m \u001b[1m1s\u001b[0m 4ms/step - loss: 0.6520 - root_mean_squared_error: 0.1324 - val_loss: 0.6930 - val_root_mean_squared_error: 0.1945\n",
            "Epoch 10/100\n",
            "\u001b[1m128/128\u001b[0m \u001b[32m━━━━━━━━━━━━━━━━━━━━\u001b[0m\u001b[37m\u001b[0m \u001b[1m1s\u001b[0m 4ms/step - loss: 0.6512 - root_mean_squared_error: 0.1271 - val_loss: 0.6930 - val_root_mean_squared_error: 0.1945\n",
            "Epoch 11/100\n",
            "\u001b[1m128/128\u001b[0m \u001b[32m━━━━━━━━━━━━━━━━━━━━\u001b[0m\u001b[37m\u001b[0m \u001b[1m1s\u001b[0m 4ms/step - loss: 0.6451 - root_mean_squared_error: 0.1259 - val_loss: 0.6930 - val_root_mean_squared_error: 0.1945\n",
            "Epoch 12/100\n",
            "\u001b[1m128/128\u001b[0m \u001b[32m━━━━━━━━━━━━━━━━━━━━\u001b[0m\u001b[37m\u001b[0m \u001b[1m1s\u001b[0m 4ms/step - loss: 0.6395 - root_mean_squared_error: 0.1232 - val_loss: 0.6930 - val_root_mean_squared_error: 0.1945\n",
            "Epoch 13/100\n",
            "\u001b[1m128/128\u001b[0m \u001b[32m━━━━━━━━━━━━━━━━━━━━\u001b[0m\u001b[37m\u001b[0m \u001b[1m1s\u001b[0m 5ms/step - loss: 0.6431 - root_mean_squared_error: 0.1276 - val_loss: 0.6930 - val_root_mean_squared_error: 0.1945\n",
            "Epoch 14/100\n",
            "\u001b[1m128/128\u001b[0m \u001b[32m━━━━━━━━━━━━━━━━━━━━\u001b[0m\u001b[37m\u001b[0m \u001b[1m1s\u001b[0m 6ms/step - loss: 0.6425 - root_mean_squared_error: 0.1156 - val_loss: 0.6930 - val_root_mean_squared_error: 0.1945\n",
            "Epoch 15/100\n",
            "\u001b[1m128/128\u001b[0m \u001b[32m━━━━━━━━━━━━━━━━━━━━\u001b[0m\u001b[37m\u001b[0m \u001b[1m1s\u001b[0m 7ms/step - loss: 0.6451 - root_mean_squared_error: 0.1247 - val_loss: 0.6930 - val_root_mean_squared_error: 0.1945\n",
            "Epoch 16/100\n",
            "\u001b[1m128/128\u001b[0m \u001b[32m━━━━━━━━━━━━━━━━━━━━\u001b[0m\u001b[37m\u001b[0m \u001b[1m0s\u001b[0m 4ms/step - loss: 0.6404 - root_mean_squared_error: 0.1159 - val_loss: 0.6930 - val_root_mean_squared_error: 0.1945\n",
            "Epoch 17/100\n",
            "\u001b[1m128/128\u001b[0m \u001b[32m━━━━━━━━━━━━━━━━━━━━\u001b[0m\u001b[37m\u001b[0m \u001b[1m1s\u001b[0m 4ms/step - loss: 0.6435 - root_mean_squared_error: 0.1189 - val_loss: 0.6930 - val_root_mean_squared_error: 0.1945\n",
            "Epoch 18/100\n",
            "\u001b[1m128/128\u001b[0m \u001b[32m━━━━━━━━━━━━━━━━━━━━\u001b[0m\u001b[37m\u001b[0m \u001b[1m1s\u001b[0m 4ms/step - loss: 0.6379 - root_mean_squared_error: 0.1158 - val_loss: 0.6930 - val_root_mean_squared_error: 0.1945\n",
            "Epoch 19/100\n",
            "\u001b[1m128/128\u001b[0m \u001b[32m━━━━━━━━━━━━━━━━━━━━\u001b[0m\u001b[37m\u001b[0m \u001b[1m1s\u001b[0m 4ms/step - loss: 0.6377 - root_mean_squared_error: 0.1129 - val_loss: 0.6930 - val_root_mean_squared_error: 0.1945\n",
            "Epoch 20/100\n",
            "\u001b[1m128/128\u001b[0m \u001b[32m━━━━━━━━━━━━━━━━━━━━\u001b[0m\u001b[37m\u001b[0m \u001b[1m1s\u001b[0m 4ms/step - loss: 0.6315 - root_mean_squared_error: 0.1111 - val_loss: 0.6930 - val_root_mean_squared_error: 0.1945\n",
            "Epoch 21/100\n",
            "\u001b[1m128/128\u001b[0m \u001b[32m━━━━━━━━━━━━━━━━━━━━\u001b[0m\u001b[37m\u001b[0m \u001b[1m1s\u001b[0m 4ms/step - loss: 0.6354 - root_mean_squared_error: 0.1042 - val_loss: 0.6930 - val_root_mean_squared_error: 0.1945\n",
            "Epoch 22/100\n",
            "\u001b[1m128/128\u001b[0m \u001b[32m━━━━━━━━━━━━━━━━━━━━\u001b[0m\u001b[37m\u001b[0m \u001b[1m1s\u001b[0m 4ms/step - loss: 0.6321 - root_mean_squared_error: 0.1034 - val_loss: 0.6930 - val_root_mean_squared_error: 0.1945\n",
            "Epoch 23/100\n",
            "\u001b[1m128/128\u001b[0m \u001b[32m━━━━━━━━━━━━━━━━━━━━\u001b[0m\u001b[37m\u001b[0m \u001b[1m1s\u001b[0m 4ms/step - loss: 0.6318 - root_mean_squared_error: 0.0985 - val_loss: 0.6930 - val_root_mean_squared_error: 0.1945\n",
            "Epoch 24/100\n",
            "\u001b[1m128/128\u001b[0m \u001b[32m━━━━━━━━━━━━━━━━━━━━\u001b[0m\u001b[37m\u001b[0m \u001b[1m1s\u001b[0m 4ms/step - loss: 0.6285 - root_mean_squared_error: 0.0964 - val_loss: 0.6930 - val_root_mean_squared_error: 0.1945\n",
            "Epoch 25/100\n",
            "\u001b[1m128/128\u001b[0m \u001b[32m━━━━━━━━━━━━━━━━━━━━\u001b[0m\u001b[37m\u001b[0m \u001b[1m1s\u001b[0m 4ms/step - loss: 0.6301 - root_mean_squared_error: 0.0961 - val_loss: 0.6930 - val_root_mean_squared_error: 0.1945\n",
            "Epoch 26/100\n",
            "\u001b[1m128/128\u001b[0m \u001b[32m━━━━━━━━━━━━━━━━━━━━\u001b[0m\u001b[37m\u001b[0m \u001b[1m1s\u001b[0m 4ms/step - loss: 0.6296 - root_mean_squared_error: 0.0926 - val_loss: 0.6930 - val_root_mean_squared_error: 0.1945\n",
            "Epoch 27/100\n",
            "\u001b[1m128/128\u001b[0m \u001b[32m━━━━━━━━━━━━━━━━━━━━\u001b[0m\u001b[37m\u001b[0m \u001b[1m1s\u001b[0m 5ms/step - loss: 0.6290 - root_mean_squared_error: 0.0959 - val_loss: 0.6930 - val_root_mean_squared_error: 0.1945\n",
            "Epoch 28/100\n",
            "\u001b[1m128/128\u001b[0m \u001b[32m━━━━━━━━━━━━━━━━━━━━\u001b[0m\u001b[37m\u001b[0m \u001b[1m1s\u001b[0m 4ms/step - loss: 0.6254 - root_mean_squared_error: 0.0904 - val_loss: 0.6930 - val_root_mean_squared_error: 0.1945\n",
            "Epoch 29/100\n",
            "\u001b[1m128/128\u001b[0m \u001b[32m━━━━━━━━━━━━━━━━━━━━\u001b[0m\u001b[37m\u001b[0m \u001b[1m1s\u001b[0m 4ms/step - loss: 0.6314 - root_mean_squared_error: 0.0920 - val_loss: 0.6930 - val_root_mean_squared_error: 0.1945\n",
            "Epoch 30/100\n",
            "\u001b[1m128/128\u001b[0m \u001b[32m━━━━━━━━━━━━━━━━━━━━\u001b[0m\u001b[37m\u001b[0m \u001b[1m1s\u001b[0m 4ms/step - loss: 0.6289 - root_mean_squared_error: 0.0868 - val_loss: 0.6930 - val_root_mean_squared_error: 0.1945\n",
            "Epoch 31/100\n",
            "\u001b[1m128/128\u001b[0m \u001b[32m━━━━━━━━━━━━━━━━━━━━\u001b[0m\u001b[37m\u001b[0m \u001b[1m1s\u001b[0m 4ms/step - loss: 0.6268 - root_mean_squared_error: 0.0864 - val_loss: 0.6930 - val_root_mean_squared_error: 0.1945\n",
            "Epoch 32/100\n",
            "\u001b[1m128/128\u001b[0m \u001b[32m━━━━━━━━━━━━━━━━━━━━\u001b[0m\u001b[37m\u001b[0m \u001b[1m1s\u001b[0m 5ms/step - loss: 0.6276 - root_mean_squared_error: 0.0790 - val_loss: 0.6930 - val_root_mean_squared_error: 0.1945\n",
            "Epoch 33/100\n",
            "\u001b[1m128/128\u001b[0m \u001b[32m━━━━━━━━━━━━━━━━━━━━\u001b[0m\u001b[37m\u001b[0m \u001b[1m2s\u001b[0m 7ms/step - loss: 0.6227 - root_mean_squared_error: 0.0766 - val_loss: 0.6930 - val_root_mean_squared_error: 0.1945\n",
            "Epoch 34/100\n",
            "\u001b[1m128/128\u001b[0m \u001b[32m━━━━━━━━━━━━━━━━━━━━\u001b[0m\u001b[37m\u001b[0m \u001b[1m1s\u001b[0m 4ms/step - loss: 0.6217 - root_mean_squared_error: 0.0759 - val_loss: 0.6930 - val_root_mean_squared_error: 0.1945\n",
            "Epoch 35/100\n",
            "\u001b[1m128/128\u001b[0m \u001b[32m━━━━━━━━━━━━━━━━━━━━\u001b[0m\u001b[37m\u001b[0m \u001b[1m1s\u001b[0m 4ms/step - loss: 0.6223 - root_mean_squared_error: 0.0767 - val_loss: 0.6930 - val_root_mean_squared_error: 0.1945\n",
            "Epoch 36/100\n",
            "\u001b[1m128/128\u001b[0m \u001b[32m━━━━━━━━━━━━━━━━━━━━\u001b[0m\u001b[37m\u001b[0m \u001b[1m1s\u001b[0m 4ms/step - loss: 0.6219 - root_mean_squared_error: 0.0767 - val_loss: 0.6930 - val_root_mean_squared_error: 0.1945\n",
            "Epoch 37/100\n",
            "\u001b[1m128/128\u001b[0m \u001b[32m━━━━━━━━━━━━━━━━━━━━\u001b[0m\u001b[37m\u001b[0m \u001b[1m1s\u001b[0m 4ms/step - loss: 0.6219 - root_mean_squared_error: 0.0665 - val_loss: 0.6930 - val_root_mean_squared_error: 0.1945\n",
            "Epoch 38/100\n",
            "\u001b[1m128/128\u001b[0m \u001b[32m━━━━━━━━━━━━━━━━━━━━\u001b[0m\u001b[37m\u001b[0m \u001b[1m1s\u001b[0m 4ms/step - loss: 0.6207 - root_mean_squared_error: 0.0676 - val_loss: 0.6930 - val_root_mean_squared_error: 0.1945\n",
            "Epoch 39/100\n",
            "\u001b[1m128/128\u001b[0m \u001b[32m━━━━━━━━━━━━━━━━━━━━\u001b[0m\u001b[37m\u001b[0m \u001b[1m1s\u001b[0m 4ms/step - loss: 0.6239 - root_mean_squared_error: 0.0681 - val_loss: 0.6930 - val_root_mean_squared_error: 0.1945\n",
            "Epoch 40/100\n",
            "\u001b[1m128/128\u001b[0m \u001b[32m━━━━━━━━━━━━━━━━━━━━\u001b[0m\u001b[37m\u001b[0m \u001b[1m0s\u001b[0m 4ms/step - loss: 0.6204 - root_mean_squared_error: 0.0680 - val_loss: 0.6930 - val_root_mean_squared_error: 0.1945\n",
            "Epoch 41/100\n",
            "\u001b[1m128/128\u001b[0m \u001b[32m━━━━━━━━━━━━━━━━━━━━\u001b[0m\u001b[37m\u001b[0m \u001b[1m1s\u001b[0m 4ms/step - loss: 0.6211 - root_mean_squared_error: 0.0658 - val_loss: 0.6930 - val_root_mean_squared_error: 0.1945\n",
            "Epoch 42/100\n",
            "\u001b[1m128/128\u001b[0m \u001b[32m━━━━━━━━━━━━━━━━━━━━\u001b[0m\u001b[37m\u001b[0m \u001b[1m1s\u001b[0m 4ms/step - loss: 0.6187 - root_mean_squared_error: 0.0653 - val_loss: 0.6930 - val_root_mean_squared_error: 0.1945\n",
            "Epoch 43/100\n",
            "\u001b[1m128/128\u001b[0m \u001b[32m━━━━━━━━━━━━━━━━━━━━\u001b[0m\u001b[37m\u001b[0m \u001b[1m1s\u001b[0m 4ms/step - loss: 0.6219 - root_mean_squared_error: 0.0679 - val_loss: 0.6930 - val_root_mean_squared_error: 0.1945\n",
            "Epoch 44/100\n",
            "\u001b[1m128/128\u001b[0m \u001b[32m━━━━━━━━━━━━━━━━━━━━\u001b[0m\u001b[37m\u001b[0m \u001b[1m1s\u001b[0m 5ms/step - loss: 0.6196 - root_mean_squared_error: 0.0614 - val_loss: 0.6930 - val_root_mean_squared_error: 0.1945\n",
            "Epoch 45/100\n",
            "\u001b[1m128/128\u001b[0m \u001b[32m━━━━━━━━━━━━━━━━━━━━\u001b[0m\u001b[37m\u001b[0m \u001b[1m0s\u001b[0m 4ms/step - loss: 0.6163 - root_mean_squared_error: 0.0627 - val_loss: 0.6930 - val_root_mean_squared_error: 0.1945\n",
            "Epoch 46/100\n",
            "\u001b[1m128/128\u001b[0m \u001b[32m━━━━━━━━━━━━━━━━━━━━\u001b[0m\u001b[37m\u001b[0m \u001b[1m1s\u001b[0m 4ms/step - loss: 0.6149 - root_mean_squared_error: 0.0599 - val_loss: 0.6930 - val_root_mean_squared_error: 0.1945\n",
            "Epoch 47/100\n",
            "\u001b[1m128/128\u001b[0m \u001b[32m━━━━━━━━━━━━━━━━━━━━\u001b[0m\u001b[37m\u001b[0m \u001b[1m1s\u001b[0m 4ms/step - loss: 0.6150 - root_mean_squared_error: 0.0600 - val_loss: 0.6930 - val_root_mean_squared_error: 0.1945\n",
            "Epoch 48/100\n",
            "\u001b[1m128/128\u001b[0m \u001b[32m━━━━━━━━━━━━━━━━━━━━\u001b[0m\u001b[37m\u001b[0m \u001b[1m1s\u001b[0m 4ms/step - loss: 0.6171 - root_mean_squared_error: 0.0556 - val_loss: 0.6930 - val_root_mean_squared_error: 0.1945\n",
            "Epoch 49/100\n",
            "\u001b[1m128/128\u001b[0m \u001b[32m━━━━━━━━━━━━━━━━━━━━\u001b[0m\u001b[37m\u001b[0m \u001b[1m1s\u001b[0m 4ms/step - loss: 0.6165 - root_mean_squared_error: 0.0558 - val_loss: 0.6930 - val_root_mean_squared_error: 0.1945\n",
            "Epoch 50/100\n",
            "\u001b[1m128/128\u001b[0m \u001b[32m━━━━━━━━━━━━━━━━━━━━\u001b[0m\u001b[37m\u001b[0m \u001b[1m1s\u001b[0m 4ms/step - loss: 0.6187 - root_mean_squared_error: 0.0547 - val_loss: 0.6930 - val_root_mean_squared_error: 0.1945\n",
            "Epoch 51/100\n",
            "\u001b[1m128/128\u001b[0m \u001b[32m━━━━━━━━━━━━━━━━━━━━\u001b[0m\u001b[37m\u001b[0m \u001b[1m1s\u001b[0m 6ms/step - loss: 0.6148 - root_mean_squared_error: 0.0494 - val_loss: 0.6930 - val_root_mean_squared_error: 0.1945\n",
            "Epoch 52/100\n",
            "\u001b[1m128/128\u001b[0m \u001b[32m━━━━━━━━━━━━━━━━━━━━\u001b[0m\u001b[37m\u001b[0m \u001b[1m1s\u001b[0m 6ms/step - loss: 0.6132 - root_mean_squared_error: 0.0526 - val_loss: 0.6930 - val_root_mean_squared_error: 0.1945\n",
            "Epoch 53/100\n",
            "\u001b[1m128/128\u001b[0m \u001b[32m━━━━━━━━━━━━━━━━━━━━\u001b[0m\u001b[37m\u001b[0m \u001b[1m1s\u001b[0m 5ms/step - loss: 0.6163 - root_mean_squared_error: 0.0521 - val_loss: 0.6930 - val_root_mean_squared_error: 0.1945\n",
            "Epoch 54/100\n",
            "\u001b[1m128/128\u001b[0m \u001b[32m━━━━━━━━━━━━━━━━━━━━\u001b[0m\u001b[37m\u001b[0m \u001b[1m1s\u001b[0m 4ms/step - loss: 0.6148 - root_mean_squared_error: 0.0526 - val_loss: 0.6930 - val_root_mean_squared_error: 0.1945\n",
            "Epoch 55/100\n",
            "\u001b[1m128/128\u001b[0m \u001b[32m━━━━━━━━━━━━━━━━━━━━\u001b[0m\u001b[37m\u001b[0m \u001b[1m1s\u001b[0m 5ms/step - loss: 0.6160 - root_mean_squared_error: 0.0496 - val_loss: 0.6930 - val_root_mean_squared_error: 0.1945\n",
            "Epoch 56/100\n",
            "\u001b[1m128/128\u001b[0m \u001b[32m━━━━━━━━━━━━━━━━━━━━\u001b[0m\u001b[37m\u001b[0m \u001b[1m1s\u001b[0m 4ms/step - loss: 0.6157 - root_mean_squared_error: 0.0487 - val_loss: 0.6930 - val_root_mean_squared_error: 0.1945\n",
            "Epoch 57/100\n",
            "\u001b[1m128/128\u001b[0m \u001b[32m━━━━━━━━━━━━━━━━━━━━\u001b[0m\u001b[37m\u001b[0m \u001b[1m1s\u001b[0m 4ms/step - loss: 0.6147 - root_mean_squared_error: 0.0451 - val_loss: 0.6930 - val_root_mean_squared_error: 0.1945\n",
            "Epoch 58/100\n",
            "\u001b[1m128/128\u001b[0m \u001b[32m━━━━━━━━━━━━━━━━━━━━\u001b[0m\u001b[37m\u001b[0m \u001b[1m1s\u001b[0m 4ms/step - loss: 0.6149 - root_mean_squared_error: 0.0466 - val_loss: 0.6929 - val_root_mean_squared_error: 0.1945\n",
            "Epoch 59/100\n",
            "\u001b[1m128/128\u001b[0m \u001b[32m━━━━━━━━━━━━━━━━━━━━\u001b[0m\u001b[37m\u001b[0m \u001b[1m1s\u001b[0m 4ms/step - loss: 0.6090 - root_mean_squared_error: 0.0450 - val_loss: 0.6929 - val_root_mean_squared_error: 0.1945\n",
            "Epoch 60/100\n",
            "\u001b[1m128/128\u001b[0m \u001b[32m━━━━━━━━━━━━━━━━━━━━\u001b[0m\u001b[37m\u001b[0m \u001b[1m1s\u001b[0m 4ms/step - loss: 0.6149 - root_mean_squared_error: 0.0417 - val_loss: 0.6929 - val_root_mean_squared_error: 0.1945\n",
            "Epoch 61/100\n",
            "\u001b[1m128/128\u001b[0m \u001b[32m━━━━━━━━━━━━━━━━━━━━\u001b[0m\u001b[37m\u001b[0m \u001b[1m1s\u001b[0m 4ms/step - loss: 0.6151 - root_mean_squared_error: 0.0403 - val_loss: 0.6929 - val_root_mean_squared_error: 0.1945\n",
            "Epoch 62/100\n",
            "\u001b[1m128/128\u001b[0m \u001b[32m━━━━━━━━━━━━━━━━━━━━\u001b[0m\u001b[37m\u001b[0m \u001b[1m1s\u001b[0m 4ms/step - loss: 0.6129 - root_mean_squared_error: 0.0389 - val_loss: 0.6929 - val_root_mean_squared_error: 0.1945\n",
            "Epoch 63/100\n",
            "\u001b[1m128/128\u001b[0m \u001b[32m━━━━━━━━━━━━━━━━━━━━\u001b[0m\u001b[37m\u001b[0m \u001b[1m1s\u001b[0m 4ms/step - loss: 0.6127 - root_mean_squared_error: 0.0406 - val_loss: 0.6929 - val_root_mean_squared_error: 0.1945\n",
            "Epoch 64/100\n",
            "\u001b[1m128/128\u001b[0m \u001b[32m━━━━━━━━━━━━━━━━━━━━\u001b[0m\u001b[37m\u001b[0m \u001b[1m1s\u001b[0m 4ms/step - loss: 0.6098 - root_mean_squared_error: 0.0430 - val_loss: 0.6929 - val_root_mean_squared_error: 0.1945\n",
            "Epoch 65/100\n",
            "\u001b[1m128/128\u001b[0m \u001b[32m━━━━━━━━━━━━━━━━━━━━\u001b[0m\u001b[37m\u001b[0m \u001b[1m1s\u001b[0m 4ms/step - loss: 0.6157 - root_mean_squared_error: 0.0377 - val_loss: 0.6929 - val_root_mean_squared_error: 0.1945\n",
            "Epoch 66/100\n",
            "\u001b[1m128/128\u001b[0m \u001b[32m━━━━━━━━━━━━━━━━━━━━\u001b[0m\u001b[37m\u001b[0m \u001b[1m0s\u001b[0m 4ms/step - loss: 0.6151 - root_mean_squared_error: 0.0352 - val_loss: 0.6929 - val_root_mean_squared_error: 0.1945\n",
            "Epoch 67/100\n",
            "\u001b[1m128/128\u001b[0m \u001b[32m━━━━━━━━━━━━━━━━━━━━\u001b[0m\u001b[37m\u001b[0m \u001b[1m1s\u001b[0m 4ms/step - loss: 0.6124 - root_mean_squared_error: 0.0392 - val_loss: 0.6929 - val_root_mean_squared_error: 0.1945\n",
            "Epoch 68/100\n",
            "\u001b[1m128/128\u001b[0m \u001b[32m━━━━━━━━━━━━━━━━━━━━\u001b[0m\u001b[37m\u001b[0m \u001b[1m1s\u001b[0m 4ms/step - loss: 0.6135 - root_mean_squared_error: 0.0340 - val_loss: 0.6929 - val_root_mean_squared_error: 0.1945\n",
            "Epoch 69/100\n",
            "\u001b[1m128/128\u001b[0m \u001b[32m━━━━━━━━━━━━━━━━━━━━\u001b[0m\u001b[37m\u001b[0m \u001b[1m1s\u001b[0m 4ms/step - loss: 0.6146 - root_mean_squared_error: 0.0376 - val_loss: 0.6929 - val_root_mean_squared_error: 0.1945\n",
            "Epoch 70/100\n",
            "\u001b[1m128/128\u001b[0m \u001b[32m━━━━━━━━━━━━━━━━━━━━\u001b[0m\u001b[37m\u001b[0m \u001b[1m1s\u001b[0m 6ms/step - loss: 0.6114 - root_mean_squared_error: 0.0359 - val_loss: 0.6929 - val_root_mean_squared_error: 0.1945\n",
            "Epoch 71/100\n",
            "\u001b[1m128/128\u001b[0m \u001b[32m━━━━━━━━━━━━━━━━━━━━\u001b[0m\u001b[37m\u001b[0m \u001b[1m1s\u001b[0m 6ms/step - loss: 0.6095 - root_mean_squared_error: 0.0346 - val_loss: 0.6929 - val_root_mean_squared_error: 0.1945\n",
            "Epoch 72/100\n",
            "\u001b[1m128/128\u001b[0m \u001b[32m━━━━━━━━━━━━━━━━━━━━\u001b[0m\u001b[37m\u001b[0m \u001b[1m1s\u001b[0m 5ms/step - loss: 0.6088 - root_mean_squared_error: 0.0329 - val_loss: 0.6929 - val_root_mean_squared_error: 0.1945\n",
            "Epoch 73/100\n",
            "\u001b[1m128/128\u001b[0m \u001b[32m━━━━━━━━━━━━━━━━━━━━\u001b[0m\u001b[37m\u001b[0m \u001b[1m1s\u001b[0m 4ms/step - loss: 0.6132 - root_mean_squared_error: 0.0325 - val_loss: 0.6929 - val_root_mean_squared_error: 0.1945\n",
            "Epoch 74/100\n",
            "\u001b[1m128/128\u001b[0m \u001b[32m━━━━━━━━━━━━━━━━━━━━\u001b[0m\u001b[37m\u001b[0m \u001b[1m1s\u001b[0m 4ms/step - loss: 0.6095 - root_mean_squared_error: 0.0327 - val_loss: 0.6929 - val_root_mean_squared_error: 0.1945\n",
            "Epoch 75/100\n",
            "\u001b[1m128/128\u001b[0m \u001b[32m━━━━━━━━━━━━━━━━━━━━\u001b[0m\u001b[37m\u001b[0m \u001b[1m1s\u001b[0m 4ms/step - loss: 0.6145 - root_mean_squared_error: 0.0319 - val_loss: 0.6929 - val_root_mean_squared_error: 0.1945\n",
            "Epoch 76/100\n",
            "\u001b[1m128/128\u001b[0m \u001b[32m━━━━━━━━━━━━━━━━━━━━\u001b[0m\u001b[37m\u001b[0m \u001b[1m1s\u001b[0m 4ms/step - loss: 0.6156 - root_mean_squared_error: 0.0286 - val_loss: 0.6929 - val_root_mean_squared_error: 0.1945\n",
            "Epoch 77/100\n",
            "\u001b[1m128/128\u001b[0m \u001b[32m━━━━━━━━━━━━━━━━━━━━\u001b[0m\u001b[37m\u001b[0m \u001b[1m1s\u001b[0m 4ms/step - loss: 0.6108 - root_mean_squared_error: 0.0327 - val_loss: 0.6929 - val_root_mean_squared_error: 0.1945\n",
            "Epoch 78/100\n",
            "\u001b[1m128/128\u001b[0m \u001b[32m━━━━━━━━━━━━━━━━━━━━\u001b[0m\u001b[37m\u001b[0m \u001b[1m1s\u001b[0m 4ms/step - loss: 0.6145 - root_mean_squared_error: 0.0318 - val_loss: 0.6929 - val_root_mean_squared_error: 0.1945\n",
            "Epoch 79/100\n",
            "\u001b[1m128/128\u001b[0m \u001b[32m━━━━━━━━━━━━━━━━━━━━\u001b[0m\u001b[37m\u001b[0m \u001b[1m1s\u001b[0m 4ms/step - loss: 0.6135 - root_mean_squared_error: 0.0303 - val_loss: 0.6929 - val_root_mean_squared_error: 0.1945\n",
            "Epoch 80/100\n",
            "\u001b[1m128/128\u001b[0m \u001b[32m━━━━━━━━━━━━━━━━━━━━\u001b[0m\u001b[37m\u001b[0m \u001b[1m1s\u001b[0m 4ms/step - loss: 0.6080 - root_mean_squared_error: 0.0296 - val_loss: 0.6929 - val_root_mean_squared_error: 0.1945\n",
            "Epoch 81/100\n",
            "\u001b[1m128/128\u001b[0m \u001b[32m━━━━━━━━━━━━━━━━━━━━\u001b[0m\u001b[37m\u001b[0m \u001b[1m0s\u001b[0m 4ms/step - loss: 0.6085 - root_mean_squared_error: 0.0275 - val_loss: 0.6929 - val_root_mean_squared_error: 0.1945\n",
            "Epoch 82/100\n",
            "\u001b[1m128/128\u001b[0m \u001b[32m━━━━━━━━━━━━━━━━━━━━\u001b[0m\u001b[37m\u001b[0m \u001b[1m1s\u001b[0m 4ms/step - loss: 0.6132 - root_mean_squared_error: 0.0294 - val_loss: 0.6929 - val_root_mean_squared_error: 0.1945\n",
            "Epoch 83/100\n",
            "\u001b[1m128/128\u001b[0m \u001b[32m━━━━━━━━━━━━━━━━━━━━\u001b[0m\u001b[37m\u001b[0m \u001b[1m0s\u001b[0m 4ms/step - loss: 0.6062 - root_mean_squared_error: 0.0298 - val_loss: 0.6929 - val_root_mean_squared_error: 0.1945\n",
            "Epoch 84/100\n",
            "\u001b[1m128/128\u001b[0m \u001b[32m━━━━━━━━━━━━━━━━━━━━\u001b[0m\u001b[37m\u001b[0m \u001b[1m1s\u001b[0m 4ms/step - loss: 0.6059 - root_mean_squared_error: 0.0267 - val_loss: 0.6929 - val_root_mean_squared_error: 0.1945\n",
            "Epoch 85/100\n",
            "\u001b[1m128/128\u001b[0m \u001b[32m━━━━━━━━━━━━━━━━━━━━\u001b[0m\u001b[37m\u001b[0m \u001b[1m0s\u001b[0m 4ms/step - loss: 0.6145 - root_mean_squared_error: 0.0235 - val_loss: 0.6929 - val_root_mean_squared_error: 0.1945\n",
            "Epoch 86/100\n",
            "\u001b[1m128/128\u001b[0m \u001b[32m━━━━━━━━━━━━━━━━━━━━\u001b[0m\u001b[37m\u001b[0m \u001b[1m1s\u001b[0m 4ms/step - loss: 0.6127 - root_mean_squared_error: 0.0233 - val_loss: 0.6929 - val_root_mean_squared_error: 0.1945\n",
            "Epoch 87/100\n",
            "\u001b[1m128/128\u001b[0m \u001b[32m━━━━━━━━━━━━━━━━━━━━\u001b[0m\u001b[37m\u001b[0m \u001b[1m0s\u001b[0m 4ms/step - loss: 0.6118 - root_mean_squared_error: 0.0237 - val_loss: 0.6929 - val_root_mean_squared_error: 0.1945\n",
            "Epoch 88/100\n",
            "\u001b[1m128/128\u001b[0m \u001b[32m━━━━━━━━━━━━━━━━━━━━\u001b[0m\u001b[37m\u001b[0m \u001b[1m1s\u001b[0m 4ms/step - loss: 0.6116 - root_mean_squared_error: 0.0224 - val_loss: 0.6929 - val_root_mean_squared_error: 0.1945\n",
            "Epoch 89/100\n",
            "\u001b[1m128/128\u001b[0m \u001b[32m━━━━━━━━━━━━━━━━━━━━\u001b[0m\u001b[37m\u001b[0m \u001b[1m1s\u001b[0m 6ms/step - loss: 0.6092 - root_mean_squared_error: 0.0262 - val_loss: 0.6929 - val_root_mean_squared_error: 0.1945\n",
            "Epoch 90/100\n",
            "\u001b[1m128/128\u001b[0m \u001b[32m━━━━━━━━━━━━━━━━━━━━\u001b[0m\u001b[37m\u001b[0m \u001b[1m1s\u001b[0m 6ms/step - loss: 0.6105 - root_mean_squared_error: 0.0241 - val_loss: 0.6929 - val_root_mean_squared_error: 0.1945\n",
            "Epoch 91/100\n",
            "\u001b[1m128/128\u001b[0m \u001b[32m━━━━━━━━━━━━━━━━━━━━\u001b[0m\u001b[37m\u001b[0m \u001b[1m1s\u001b[0m 6ms/step - loss: 0.6109 - root_mean_squared_error: 0.0204 - val_loss: 0.6929 - val_root_mean_squared_error: 0.1945\n",
            "Epoch 92/100\n",
            "\u001b[1m128/128\u001b[0m \u001b[32m━━━━━━━━━━━━━━━━━━━━\u001b[0m\u001b[37m\u001b[0m \u001b[1m1s\u001b[0m 4ms/step - loss: 0.6052 - root_mean_squared_error: 0.0240 - val_loss: 0.6929 - val_root_mean_squared_error: 0.1945\n",
            "Epoch 93/100\n",
            "\u001b[1m128/128\u001b[0m \u001b[32m━━━━━━━━━━━━━━━━━━━━\u001b[0m\u001b[37m\u001b[0m \u001b[1m1s\u001b[0m 4ms/step - loss: 0.6109 - root_mean_squared_error: 0.0221 - val_loss: 0.6929 - val_root_mean_squared_error: 0.1945\n",
            "Epoch 94/100\n",
            "\u001b[1m128/128\u001b[0m \u001b[32m━━━━━━━━━━━━━━━━━━━━\u001b[0m\u001b[37m\u001b[0m \u001b[1m1s\u001b[0m 4ms/step - loss: 0.6109 - root_mean_squared_error: 0.0225 - val_loss: 0.6929 - val_root_mean_squared_error: 0.1945\n",
            "Epoch 95/100\n",
            "\u001b[1m128/128\u001b[0m \u001b[32m━━━━━━━━━━━━━━━━━━━━\u001b[0m\u001b[37m\u001b[0m \u001b[1m1s\u001b[0m 4ms/step - loss: 0.6083 - root_mean_squared_error: 0.0218 - val_loss: 0.6929 - val_root_mean_squared_error: 0.1945\n",
            "Epoch 96/100\n",
            "\u001b[1m128/128\u001b[0m \u001b[32m━━━━━━━━━━━━━━━━━━━━\u001b[0m\u001b[37m\u001b[0m \u001b[1m0s\u001b[0m 4ms/step - loss: 0.6067 - root_mean_squared_error: 0.0220 - val_loss: 0.6929 - val_root_mean_squared_error: 0.1945\n",
            "Epoch 97/100\n",
            "\u001b[1m128/128\u001b[0m \u001b[32m━━━━━━━━━━━━━━━━━━━━\u001b[0m\u001b[37m\u001b[0m \u001b[1m1s\u001b[0m 4ms/step - loss: 0.6138 - root_mean_squared_error: 0.0196 - val_loss: 0.6929 - val_root_mean_squared_error: 0.1945\n",
            "Epoch 98/100\n",
            "\u001b[1m128/128\u001b[0m \u001b[32m━━━━━━━━━━━━━━━━━━━━\u001b[0m\u001b[37m\u001b[0m \u001b[1m0s\u001b[0m 4ms/step - loss: 0.6087 - root_mean_squared_error: 0.0227 - val_loss: 0.6929 - val_root_mean_squared_error: 0.1945\n",
            "Epoch 99/100\n",
            "\u001b[1m128/128\u001b[0m \u001b[32m━━━━━━━━━━━━━━━━━━━━\u001b[0m\u001b[37m\u001b[0m \u001b[1m1s\u001b[0m 4ms/step - loss: 0.6103 - root_mean_squared_error: 0.0211 - val_loss: 0.6929 - val_root_mean_squared_error: 0.1945\n",
            "Epoch 100/100\n",
            "\u001b[1m128/128\u001b[0m \u001b[32m━━━━━━━━━━━━━━━━━━━━\u001b[0m\u001b[37m\u001b[0m \u001b[1m1s\u001b[0m 4ms/step - loss: 0.6113 - root_mean_squared_error: 0.0215 - val_loss: 0.6929 - val_root_mean_squared_error: 0.1945\n"
          ]
        }
      ],
      "source": [
        "import tensorflow as tf\n",
        "from tensorflow.keras import layers\n",
        "\n",
        "class ModelRekomendasi(tf.keras.Model):\n",
        "    def __init__(self, num_users, num_movies, embedding_dim):\n",
        "        super().__init__()\n",
        "        self.user_emb = layers.Embedding(num_users, embedding_dim, embeddings_initializer='he_normal', embeddings_regularizer=tf.keras.regularizers.l2(1e-6))\n",
        "        self.user_bias = layers.Embedding(num_users, 1)\n",
        "        self.movie_emb = layers.Embedding(num_movies, embedding_dim, embeddings_initializer='he_normal', embeddings_regularizer=tf.keras.regularizers.l2(1e-6))\n",
        "        self.movie_bias = layers.Embedding(num_movies, 1)\n",
        "\n",
        "    def call(self, inputs):\n",
        "        user_vec = self.user_emb(inputs[:, 0])\n",
        "        user_b = self.user_bias(inputs[:, 0])\n",
        "        movie_vec = self.movie_emb(inputs[:, 1])\n",
        "        movie_b = self.movie_bias(inputs[:, 1])\n",
        "        dot = tf.tensordot(user_vec, movie_vec, 2)\n",
        "        output = dot + user_b + movie_b\n",
        "        return tf.nn.sigmoid(output)\n",
        "\n",
        "# Inisialisasi dan kompilasi model\n",
        "model = ModelRekomendasi(jumlah_user, jumlah_film, 50)\n",
        "model.compile(\n",
        "    loss=tf.keras.losses.BinaryCrossentropy(),\n",
        "    optimizer=tf.keras.optimizers.Adam(learning_rate=0.001),\n",
        "    metrics=[tf.keras.metrics.RootMeanSquaredError()]\n",
        ")\n",
        "\n",
        "# Melatih model\n",
        "history = model.fit(\n",
        "    x=x_train, y=y_train,\n",
        "    batch_size=8, epochs=100,\n",
        "    validation_data=(x_val, y_val)\n",
        ")"
      ]
    },
    {
      "cell_type": "markdown",
      "source": [
        "## Visualisasi Hasil Pelatihan"
      ],
      "metadata": {
        "id": "DIaDdGLOaMgo"
      }
    },
    {
      "cell_type": "markdown",
      "source": [
        "### visualisasikan metrik RMSE untuk mengevaluasi performa model."
      ],
      "metadata": {
        "id": "IbGCTlkKaOrT"
      }
    },
    {
      "cell_type": "code",
      "source": [
        "import matplotlib.pyplot as plt\n",
        "\n",
        "plt.plot(history.history['root_mean_squared_error'], label='Train RMSE')\n",
        "plt.plot(history.history['val_root_mean_squared_error'], label='Validation RMSE')\n",
        "plt.title('Evaluasi Model')\n",
        "plt.xlabel('Epoch')\n",
        "plt.ylabel('Root Mean Squared Error')\n",
        "plt.legend()\n",
        "plt.show()"
      ],
      "metadata": {
        "colab": {
          "base_uri": "https://localhost:8080/",
          "height": 472
        },
        "id": "DTHjXz4PaQT0",
        "outputId": "178615f6-6cdd-40e3-e430-acde47e8a4e0"
      },
      "execution_count": 33,
      "outputs": [
        {
          "output_type": "display_data",
          "data": {
            "text/plain": [
              "<Figure size 640x480 with 1 Axes>"
            ],
            "image/png": "[encoded data removed]"
          },
          "metadata": {}
        }
      ]
    },
    {
      "cell_type": "markdown",
      "source": [
        "## Menghasilkan Rekomendasi"
      ],
      "metadata": {
        "id": "QItzBYtDaSV-"
      }
    },
    {
      "cell_type": "markdown",
      "source": [
        "### buat rekomendasi untuk pengguna tertentu."
      ],
      "metadata": {
        "id": "mSCwf9GzaTFz"
      }
    },
    {
      "cell_type": "markdown",
      "source": [
        "### Debugging Data Awal"
      ],
      "metadata": {
        "id": "Z28Gp0G2eWdt"
      }
    },
    {
      "cell_type": "code",
      "source": [
        "# Cetak beberapa informasi untuk debugging\n",
        "print(f\"Jumlah movie_id unik di data_cf: {len(data_cf['movie_id'].unique())}\")\n",
        "print(f\"Jumlah id unik di data_final: {len(data_final['id'].unique())}\")\n",
        "print(f\"Contoh film_rekomendasi: {film_rekomendasi[:5]}\")\n",
        "print(f\"Contoh id di data_final: {data_final['id'].head().tolist()}\")"
      ],
      "metadata": {
        "colab": {
          "base_uri": "https://localhost:8080/"
        },
        "id": "i0VCz8LBddrR",
        "outputId": "8076f807-2d33-4e65-b0ab-5676c1342415"
      },
      "execution_count": 38,
      "outputs": [
        {
          "output_type": "stream",
          "name": "stdout",
          "text": [
            "Jumlah movie_id unik di data_cf: 1272\n",
            "Jumlah id unik di data_final: 286\n",
            "Contoh film_rekomendasi: [100085, 100041, 100064, 100214, 100220]\n",
            "Contoh id di data_final: [100001, 100002, 100003, 100004, 100005]\n"
          ]
        }
      ]
    },
    {
      "cell_type": "markdown",
      "source": [
        "### Memastikan Konsistensi Data"
      ],
      "metadata": {
        "id": "_0A_gnSLeT_b"
      }
    },
    {
      "cell_type": "code",
      "source": [
        "# Filter film_rekomendasi agar hanya menyertakan id yang ada di data_final\n",
        "film_rekomendasi = [film_id for film_id in film_rekomendasi if film_id in data_final['id'].values]"
      ],
      "metadata": {
        "id": "VBs43qL3d61f"
      },
      "execution_count": 39,
      "outputs": []
    },
    {
      "cell_type": "markdown",
      "source": [
        "### Menangani Kasus Kosong dengan Pengecekan"
      ],
      "metadata": {
        "id": "0zQ8HmDieNpI"
      }
    },
    {
      "cell_type": "code",
      "source": [
        "print(\"\\n10 Rekomendasi Film:\")\n",
        "for film_id in film_rekomendasi:\n",
        "    detail = data_final[data_final['id'] == film_id]\n",
        "    if not detail.empty:\n",
        "        print(f\"{detail['nama_film'].iloc[0]} (Genre: {detail['genre'].iloc[0]})\")\n",
        "    else:\n",
        "        print(f\"Film dengan ID {film_id} tidak ditemukan di data_final\")"
      ],
      "metadata": {
        "colab": {
          "base_uri": "https://localhost:8080/"
        },
        "id": "DH6j1PzTeAZD",
        "outputId": "b0810972-ea26-4e5a-a479-ee4e4d6e6813"
      },
      "execution_count": 41,
      "outputs": [
        {
          "output_type": "stream",
          "name": "stdout",
          "text": [
            "\n",
            "10 Rekomendasi Film:\n",
            "Mendadak Kaya (Genre: Comedy)\n",
            "Dilan 1991 (Genre: Drama)\n",
            "Koboy Kampus (Genre: Comedy)\n",
            "Suzzanna: Bernapas dalam Kubur (Genre: Comedy)\n",
            "The Returning (Genre: Horror)\n",
            "Dimsum Martabak (Genre: Comedy)\n",
            "Dignitate (Genre: Drama)\n",
            "Ratu Ilmu Hitam (Genre: Horror)\n"
          ]
        }
      ]
    },
    {
      "cell_type": "code",
      "source": [
        "# Memilih pengguna acak\n",
        "user_id = data_cf['user_id'].sample(1).iloc[0]\n",
        "film_dilihat = data_cf[data_cf['user_id'] == user_id]\n",
        "\n",
        "# Film yang belum dilihat\n",
        "film_belum_dilihat = data_final[~data_final['id'].isin(film_dilihat['movie_id'])]['id']\n",
        "film_belum_dilihat = list(set(film_belum_dilihat).intersection(movie_ke_indeks.keys()))\n",
        "film_belum_dilihat = [[movie_ke_indeks.get(film)] for film in film_belum_dilihat]\n",
        "\n",
        "# Menyiapkan input untuk prediksi\n",
        "user_indeks = user_ke_indeks.get(user_id)\n",
        "input_prediksi = np.hstack(([[user_indeks]] * len(film_belum_dilihat), film_belum_dilihat))\n",
        "\n",
        "# Memprediksi rating\n",
        "prediksi = model.predict(input_prediksi).flatten()\n",
        "indeks_top = prediksi.argsort()[-10:][::-1]\n",
        "film_rekomendasi = [movie_unik[i] for i in indeks_top]\n",
        "\n",
        "# Filter film_rekomendasi agar hanya yang ada di data_final\n",
        "film_rekomendasi = [film_id for film_id in film_rekomendasi if film_id in data_final['id'].values]\n",
        "\n",
        "# Menampilkan hasil\n",
        "print(f\"Rekomendasi untuk pengguna {user_id}:\")\n",
        "print(\"Film yang disukai pengguna:\")\n",
        "for film in film_dilihat.sort_values(by='users_rating', ascending=False).head(5).itertuples():\n",
        "    detail = data_final[data_final['id'] == film.movie_id]\n",
        "    if not detail.empty:\n",
        "        print(f\"{detail['nama_film'].iloc[0]} (Genre: {detail['genre'].iloc[0]})\")\n",
        "    else:\n",
        "        print(f\"Film dengan ID {film.movie_id} tidak ditemukan\")\n",
        "\n",
        "print(\"\\n10 Rekomendasi Film:\")\n",
        "for film_id in film_rekomendasi:\n",
        "    detail = data_final[data_final['id'] == film_id]\n",
        "    if not detail.empty:\n",
        "        print(f\"{detail['nama_film'].iloc[0]} (Genre: {detail['genre'].iloc[0]})\")\n",
        "    else:\n",
        "        print(f\"Film dengan ID {film_id} tidak ditemukan di data_final\")"
      ],
      "metadata": {
        "colab": {
          "base_uri": "https://localhost:8080/"
        },
        "id": "7hiWukUeaV8E",
        "outputId": "f6314e20-1c42-4541-967c-89a167997ce1"
      },
      "execution_count": 42,
      "outputs": [
        {
          "output_type": "stream",
          "name": "stdout",
          "text": [
            "\u001b[1m9/9\u001b[0m \u001b[32m━━━━━━━━━━━━━━━━━━━━\u001b[0m\u001b[37m\u001b[0m \u001b[1m0s\u001b[0m 3ms/step \n",
            "Rekomendasi untuk pengguna U950:\n",
            "Film yang disukai pengguna:\n",
            "Film dengan ID 100950 tidak ditemukan\n",
            "\n",
            "10 Rekomendasi Film:\n",
            "Mendadak Kaya (Genre: Comedy)\n",
            "Dilan 1991 (Genre: Drama)\n",
            "Koboy Kampus (Genre: Comedy)\n",
            "Dignitate (Genre: Drama)\n",
            "Target (Genre: Comedy)\n",
            "Surat Cinta Untuk Starla the Movie (Genre: Drama)\n",
            "Ratu Ilmu Hitam (Genre: Horror)\n",
            "Wiro Sableng 212 (Genre: Action)\n"
          ]
        }
      ]
    }
  ],
  "metadata": {
    "colab": {
      "provenance": []
    },
    "kernelspec": {
      "display_name": "Python 3",
      "name": "python3"
    },
    "language_info": {
      "name": "python"
    }
  },
  "nbformat": 4,
  "nbformat_minor": 0
}